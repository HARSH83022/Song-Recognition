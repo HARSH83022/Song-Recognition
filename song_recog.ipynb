{
  "nbformat": 4,
  "nbformat_minor": 0,
  "metadata": {
    "colab": {
      "provenance": []
    },
    "kernelspec": {
      "name": "python3",
      "display_name": "Python 3"
    },
    "language_info": {
      "name": "python"
    }
  },
  "cells": [
    {
      "cell_type": "code",
      "source": [
        "from google.colab import drive\n",
        "drive.mount('/content/drive')"
      ],
      "metadata": {
        "colab": {
          "base_uri": "https://localhost:8080/"
        },
        "id": "bwKuUPvW8C2O",
        "outputId": "45d5b009-7d6f-4d67-a3df-3d60654ff6f6"
      },
      "execution_count": null,
      "outputs": [
        {
          "output_type": "stream",
          "name": "stdout",
          "text": [
            "Mounted at /content/drive\n"
          ]
        }
      ]
    },
    {
      "cell_type": "code",
      "source": [
        "song_folder_path = '/content/drive/MyDrive/[SPOTDOWNLOADER.COM] ML dataset'\n"
      ],
      "metadata": {
        "id": "_nb8w9qr8dLm"
      },
      "execution_count": null,
      "outputs": []
    },
    {
      "source": [
        "import os\n",
        "songs = os.listdir(song_folder_path)\n",
        "\n",
        "for i, song in enumerate(songs):\n",
        "  print(f\"{i+1}. {song}\")"
      ],
      "cell_type": "code",
      "metadata": {
        "colab": {
          "base_uri": "https://localhost:8080/"
        },
        "id": "MyoTgEts9Asg",
        "outputId": "08dcad81-6a4d-4abe-94af-bf6c4b173b86"
      },
      "execution_count": null,
      "outputs": [
        {
          "output_type": "stream",
          "name": "stdout",
          "text": [
            "1. legroom.mp3\n",
            "2. Cigarettes out the Window.mp3\n",
            "3. Can I Call You Tonight_.mp3\n",
            "4. I Love U.mp3\n",
            "5. Daddy Issues.mp3\n",
            "6. Aisay Kaisay.mp3\n",
            "7. 3 Nights.mp3\n",
            "8. Better in the Dark.mp3\n",
            "9. wtf.mp3\n",
            "10. Softcore.mp3\n",
            "11. Attention.mp3\n",
            "12. Dance Like This.mp3\n",
            "13. 505.mp3\n",
            "14. BIRDS OF A FEATHER.mp3\n",
            "15. Birds Dont Sing.mp3\n",
            "16. Bad Habit.mp3\n",
            "17. Babydoll.mp3\n",
            "18. Attitude (I Want More).mp3\n",
            "19. A Little Death.mp3\n",
            "20. Stress Relief.mp3\n",
            "21. Something About You.mp3\n",
            "22. SAY THAT YOU MISS ME (3).mp3\n",
            "23. Not Allowed.mp3\n",
            "24. Lovers Rock.mp3\n",
            "25. Let It Happen.mp3\n",
            "26. Doubt.mp3\n",
            "27. Die Hard.mp3\n",
            "28. Dark Red.mp3\n",
            "29. Dangal.mp3\n",
            "30. Cupid – Twin Ver. (feat. Sabrina Carpenter).mp3\n",
            "31. Cry Baby.mp3\n",
            "32. Counting Stars.mp3\n",
            "33. Cocaine Sunday.mp3\n",
            "34. Circles.mp3\n",
            "35. Chit Chat.mp3\n",
            "36. Borderline.mp3\n",
            "37. Cake By The Ocean.mp3\n",
            "38. Chamber Of Reflection.mp3\n",
            "39. Chand Sifarish.mp3\n",
            "40. Freaks.mp3\n",
            "41. Formula.mp3\n",
            "42. Forever Young.mp3\n",
            "43. fools (can't help falling in love) (feat. Sody).mp3\n",
            "44. Escapism..mp3\n",
            "45. Electric Love.mp3\n",
            "46. Duvet.mp3\n",
            "47. Honeypie.mp3\n",
            "48. Honey.mp3\n",
            "49. Havana (feat. Young Thug).mp3\n",
            "50. golden hour.mp3\n",
            "51. Ghost.mp3\n",
            "52. FΛSHION.mp3\n",
            "53. From The Start.mp3\n",
            "54. Kill Bill.mp3\n",
            "55. Kamikaze.mp3\n",
            "56. if u think i'm pretty.mp3\n",
            "57. I Was Made For Lovin' You.mp3\n",
            "58. I Wanna Be Yours.mp3\n",
            "59. i like the way you kiss me.mp3\n",
            "60. I Die Again.mp3\n",
            "61. New Gold (feat. Tame Impala and Bootie Brown).mp3\n",
            "62. Muskaanein Jhooti Hai.mp3\n",
            "63. Mona Lisa.mp3\n",
            "64. Maniac.mp3\n",
            "65. Lavender Sunflower.mp3\n",
            "66. Knee Socks.mp3\n",
            "67. scars.mp3\n",
            "68. Riptide.mp3\n",
            "69. Remember When.mp3\n",
            "70. Raabta.mp3\n",
            "71. Nico and the Niners.mp3\n",
            "72. Next Exit.mp3\n",
            "73. New Person, Same Old Mistakes.mp3\n",
            "74. Take Me To The Sun.mp3\n",
            "75. Swim.mp3\n",
            "76. Sunsetz.mp3\n",
            "77. Solo Mission.mp3\n",
            "78. Shut up My Moms Calling.mp3\n",
            "79. See you Soon.mp3\n",
            "80. See You Again (feat. Kali Uchis).mp3\n",
            "81. Wait a Minute!.mp3\n",
            "82. Up & Down.mp3\n",
            "83. Unlovable.mp3\n",
            "84. Undercover Martyn.mp3\n",
            "85. Those Eyes.mp3\n",
            "86. This Side of Paradise.mp3\n",
            "87. THE SHADE.mp3\n",
            "88. The Night We Met.mp3\n",
            "89. Tell Em.mp3\n",
            "90. telepatía.mp3\n",
            "91. Tek It.mp3\n",
            "92. You Get Me So High.mp3\n",
            "93. we fell in love in october.mp3\n",
            "94. Young.mp3\n",
            "95. Washing Machine Heart.mp3\n",
            "96. Youngblood.mp3\n"
          ]
        }
      ]
    },
    {
      "cell_type": "code",
      "source": [
        "import os\n",
        "import numpy as np\n",
        "\n",
        "song_folder_path = '/content/drive/MyDrive/[SPOTDOWNLOADER.COM] ML dataset'\n",
        "\n",
        "features = []\n",
        "song_names = []\n",
        "\n",
        "for song in songs:\n",
        "    song_path = os.path.join(song_folder_path, song)\n",
        "    feature = extract_features(song_path)\n",
        "    if feature is not None:\n",
        "        features.append(feature)\n",
        "        song_names.append(song)\n",
        "\n",
        "features = np.array(features)\n",
        "song_names = np.array(song_names)\n",
        "\n",
        "print(f\"Extracted features for {len(features)} songs.\")\n"
      ],
      "metadata": {
        "colab": {
          "base_uri": "https://localhost:8080/"
        },
        "id": "yloArd43I3-n",
        "outputId": "06b432a2-0504-43bb-b286-a4f7c5532a8d"
      },
      "execution_count": null,
      "outputs": [
        {
          "output_type": "stream",
          "name": "stderr",
          "text": [
            "<ipython-input-32-a3d943cd1b72>:17: UserWarning: PySoundFile failed. Trying audioread instead.\n",
            "  y, sr = librosa.load(file_path, duration=30)  # Load first 30 seconds of audio\n",
            "/usr/local/lib/python3.10/dist-packages/librosa/core/audio.py:184: FutureWarning: librosa.core.audio.__audioread_load\n",
            "\tDeprecated as of librosa version 0.10.0.\n",
            "\tIt will be removed in librosa version 1.0.\n",
            "  y, sr_native = __audioread_load(path, offset, duration, dtype)\n",
            "<ipython-input-32-a3d943cd1b72>:17: UserWarning: PySoundFile failed. Trying audioread instead.\n",
            "  y, sr = librosa.load(file_path, duration=30)  # Load first 30 seconds of audio\n",
            "/usr/local/lib/python3.10/dist-packages/librosa/core/audio.py:184: FutureWarning: librosa.core.audio.__audioread_load\n",
            "\tDeprecated as of librosa version 0.10.0.\n",
            "\tIt will be removed in librosa version 1.0.\n",
            "  y, sr_native = __audioread_load(path, offset, duration, dtype)\n"
          ]
        },
        {
          "output_type": "stream",
          "name": "stdout",
          "text": [
            "Error processing /content/drive/MyDrive/[SPOTDOWNLOADER.COM] ML dataset/I Love U.mp3: \n",
            "Error processing /content/drive/MyDrive/[SPOTDOWNLOADER.COM] ML dataset/Daddy Issues.mp3: \n"
          ]
        },
        {
          "output_type": "stream",
          "name": "stderr",
          "text": [
            "<ipython-input-32-a3d943cd1b72>:17: UserWarning: PySoundFile failed. Trying audioread instead.\n",
            "  y, sr = librosa.load(file_path, duration=30)  # Load first 30 seconds of audio\n",
            "/usr/local/lib/python3.10/dist-packages/librosa/core/audio.py:184: FutureWarning: librosa.core.audio.__audioread_load\n",
            "\tDeprecated as of librosa version 0.10.0.\n",
            "\tIt will be removed in librosa version 1.0.\n",
            "  y, sr_native = __audioread_load(path, offset, duration, dtype)\n",
            "<ipython-input-32-a3d943cd1b72>:17: UserWarning: PySoundFile failed. Trying audioread instead.\n",
            "  y, sr = librosa.load(file_path, duration=30)  # Load first 30 seconds of audio\n",
            "/usr/local/lib/python3.10/dist-packages/librosa/core/audio.py:184: FutureWarning: librosa.core.audio.__audioread_load\n",
            "\tDeprecated as of librosa version 0.10.0.\n",
            "\tIt will be removed in librosa version 1.0.\n",
            "  y, sr_native = __audioread_load(path, offset, duration, dtype)\n"
          ]
        },
        {
          "output_type": "stream",
          "name": "stdout",
          "text": [
            "Error processing /content/drive/MyDrive/[SPOTDOWNLOADER.COM] ML dataset/Aisay Kaisay.mp3: \n",
            "Error processing /content/drive/MyDrive/[SPOTDOWNLOADER.COM] ML dataset/3 Nights.mp3: \n"
          ]
        },
        {
          "output_type": "stream",
          "name": "stderr",
          "text": [
            "<ipython-input-32-a3d943cd1b72>:17: UserWarning: PySoundFile failed. Trying audioread instead.\n",
            "  y, sr = librosa.load(file_path, duration=30)  # Load first 30 seconds of audio\n",
            "/usr/local/lib/python3.10/dist-packages/librosa/core/audio.py:184: FutureWarning: librosa.core.audio.__audioread_load\n",
            "\tDeprecated as of librosa version 0.10.0.\n",
            "\tIt will be removed in librosa version 1.0.\n",
            "  y, sr_native = __audioread_load(path, offset, duration, dtype)\n",
            "<ipython-input-32-a3d943cd1b72>:17: UserWarning: PySoundFile failed. Trying audioread instead.\n",
            "  y, sr = librosa.load(file_path, duration=30)  # Load first 30 seconds of audio\n",
            "/usr/local/lib/python3.10/dist-packages/librosa/core/audio.py:184: FutureWarning: librosa.core.audio.__audioread_load\n",
            "\tDeprecated as of librosa version 0.10.0.\n",
            "\tIt will be removed in librosa version 1.0.\n",
            "  y, sr_native = __audioread_load(path, offset, duration, dtype)\n"
          ]
        },
        {
          "output_type": "stream",
          "name": "stdout",
          "text": [
            "Error processing /content/drive/MyDrive/[SPOTDOWNLOADER.COM] ML dataset/wtf.mp3: \n",
            "Error processing /content/drive/MyDrive/[SPOTDOWNLOADER.COM] ML dataset/Softcore.mp3: \n"
          ]
        },
        {
          "output_type": "stream",
          "name": "stderr",
          "text": [
            "<ipython-input-32-a3d943cd1b72>:17: UserWarning: PySoundFile failed. Trying audioread instead.\n",
            "  y, sr = librosa.load(file_path, duration=30)  # Load first 30 seconds of audio\n",
            "/usr/local/lib/python3.10/dist-packages/librosa/core/audio.py:184: FutureWarning: librosa.core.audio.__audioread_load\n",
            "\tDeprecated as of librosa version 0.10.0.\n",
            "\tIt will be removed in librosa version 1.0.\n",
            "  y, sr_native = __audioread_load(path, offset, duration, dtype)\n",
            "<ipython-input-32-a3d943cd1b72>:17: UserWarning: PySoundFile failed. Trying audioread instead.\n",
            "  y, sr = librosa.load(file_path, duration=30)  # Load first 30 seconds of audio\n",
            "/usr/local/lib/python3.10/dist-packages/librosa/core/audio.py:184: FutureWarning: librosa.core.audio.__audioread_load\n",
            "\tDeprecated as of librosa version 0.10.0.\n",
            "\tIt will be removed in librosa version 1.0.\n",
            "  y, sr_native = __audioread_load(path, offset, duration, dtype)\n"
          ]
        },
        {
          "output_type": "stream",
          "name": "stdout",
          "text": [
            "Error processing /content/drive/MyDrive/[SPOTDOWNLOADER.COM] ML dataset/Attention.mp3: \n",
            "Error processing /content/drive/MyDrive/[SPOTDOWNLOADER.COM] ML dataset/Dance Like This.mp3: \n",
            "Extracted features for 88 songs.\n"
          ]
        }
      ]
    },
    {
      "cell_type": "code",
      "source": [
        "import pickle\n",
        "\n",
        "with open('features.pkl', 'wb') as f:\n",
        "    pickle.dump(features, f)\n",
        "\n",
        "with open('song_names.pkl', 'wb') as f:\n",
        "    pickle.dump(song_names, f)\n",
        "\n",
        "print(\"Features and song names saved!\")\n"
      ],
      "metadata": {
        "colab": {
          "base_uri": "https://localhost:8080/"
        },
        "id": "zuK3YlghI4kY",
        "outputId": "0a177c60-6fa5-45f9-d147-75ee2cbcbdca"
      },
      "execution_count": null,
      "outputs": [
        {
          "output_type": "stream",
          "name": "stdout",
          "text": [
            "Features and song names saved!\n"
          ]
        }
      ]
    },
    {
      "cell_type": "code",
      "source": [
        "from sklearn.preprocessing import StandardScaler\n",
        "\n",
        "scaler = StandardScaler()\n",
        "features = scaler.fit_transform(features)\n"
      ],
      "metadata": {
        "id": "IhK_I4YoJgoU"
      },
      "execution_count": null,
      "outputs": []
    },
    {
      "cell_type": "code",
      "source": [
        "unique_song_names = set(song_names)\n",
        "if len(unique_song_names) != len(song_names):\n",
        "    print(\"Warning: Duplicate song labels detected!\")\n"
      ],
      "metadata": {
        "id": "Zbf4yyhHJhQi"
      },
      "execution_count": null,
      "outputs": []
    },
    {
      "cell_type": "code",
      "source": [
        "knn = KNeighborsClassifier(n_neighbors=3, metric='cosine')\n",
        "knn.fit(X_train, y_train)\n"
      ],
      "metadata": {
        "colab": {
          "base_uri": "https://localhost:8080/",
          "height": 80
        },
        "id": "dODED-8DJkQl",
        "outputId": "3b96c847-0985-4620-d1d9-236c909cfe52"
      },
      "execution_count": null,
      "outputs": [
        {
          "output_type": "execute_result",
          "data": {
            "text/plain": [
              "KNeighborsClassifier(metric='cosine', n_neighbors=3)"
            ],
            "text/html": [
              "<style>#sk-container-id-1 {\n",
              "  /* Definition of color scheme common for light and dark mode */\n",
              "  --sklearn-color-text: black;\n",
              "  --sklearn-color-line: gray;\n",
              "  /* Definition of color scheme for unfitted estimators */\n",
              "  --sklearn-color-unfitted-level-0: #fff5e6;\n",
              "  --sklearn-color-unfitted-level-1: #f6e4d2;\n",
              "  --sklearn-color-unfitted-level-2: #ffe0b3;\n",
              "  --sklearn-color-unfitted-level-3: chocolate;\n",
              "  /* Definition of color scheme for fitted estimators */\n",
              "  --sklearn-color-fitted-level-0: #f0f8ff;\n",
              "  --sklearn-color-fitted-level-1: #d4ebff;\n",
              "  --sklearn-color-fitted-level-2: #b3dbfd;\n",
              "  --sklearn-color-fitted-level-3: cornflowerblue;\n",
              "\n",
              "  /* Specific color for light theme */\n",
              "  --sklearn-color-text-on-default-background: var(--sg-text-color, var(--theme-code-foreground, var(--jp-content-font-color1, black)));\n",
              "  --sklearn-color-background: var(--sg-background-color, var(--theme-background, var(--jp-layout-color0, white)));\n",
              "  --sklearn-color-border-box: var(--sg-text-color, var(--theme-code-foreground, var(--jp-content-font-color1, black)));\n",
              "  --sklearn-color-icon: #696969;\n",
              "\n",
              "  @media (prefers-color-scheme: dark) {\n",
              "    /* Redefinition of color scheme for dark theme */\n",
              "    --sklearn-color-text-on-default-background: var(--sg-text-color, var(--theme-code-foreground, var(--jp-content-font-color1, white)));\n",
              "    --sklearn-color-background: var(--sg-background-color, var(--theme-background, var(--jp-layout-color0, #111)));\n",
              "    --sklearn-color-border-box: var(--sg-text-color, var(--theme-code-foreground, var(--jp-content-font-color1, white)));\n",
              "    --sklearn-color-icon: #878787;\n",
              "  }\n",
              "}\n",
              "\n",
              "#sk-container-id-1 {\n",
              "  color: var(--sklearn-color-text);\n",
              "}\n",
              "\n",
              "#sk-container-id-1 pre {\n",
              "  padding: 0;\n",
              "}\n",
              "\n",
              "#sk-container-id-1 input.sk-hidden--visually {\n",
              "  border: 0;\n",
              "  clip: rect(1px 1px 1px 1px);\n",
              "  clip: rect(1px, 1px, 1px, 1px);\n",
              "  height: 1px;\n",
              "  margin: -1px;\n",
              "  overflow: hidden;\n",
              "  padding: 0;\n",
              "  position: absolute;\n",
              "  width: 1px;\n",
              "}\n",
              "\n",
              "#sk-container-id-1 div.sk-dashed-wrapped {\n",
              "  border: 1px dashed var(--sklearn-color-line);\n",
              "  margin: 0 0.4em 0.5em 0.4em;\n",
              "  box-sizing: border-box;\n",
              "  padding-bottom: 0.4em;\n",
              "  background-color: var(--sklearn-color-background);\n",
              "}\n",
              "\n",
              "#sk-container-id-1 div.sk-container {\n",
              "  /* jupyter's `normalize.less` sets `[hidden] { display: none; }`\n",
              "     but bootstrap.min.css set `[hidden] { display: none !important; }`\n",
              "     so we also need the `!important` here to be able to override the\n",
              "     default hidden behavior on the sphinx rendered scikit-learn.org.\n",
              "     See: https://github.com/scikit-learn/scikit-learn/issues/21755 */\n",
              "  display: inline-block !important;\n",
              "  position: relative;\n",
              "}\n",
              "\n",
              "#sk-container-id-1 div.sk-text-repr-fallback {\n",
              "  display: none;\n",
              "}\n",
              "\n",
              "div.sk-parallel-item,\n",
              "div.sk-serial,\n",
              "div.sk-item {\n",
              "  /* draw centered vertical line to link estimators */\n",
              "  background-image: linear-gradient(var(--sklearn-color-text-on-default-background), var(--sklearn-color-text-on-default-background));\n",
              "  background-size: 2px 100%;\n",
              "  background-repeat: no-repeat;\n",
              "  background-position: center center;\n",
              "}\n",
              "\n",
              "/* Parallel-specific style estimator block */\n",
              "\n",
              "#sk-container-id-1 div.sk-parallel-item::after {\n",
              "  content: \"\";\n",
              "  width: 100%;\n",
              "  border-bottom: 2px solid var(--sklearn-color-text-on-default-background);\n",
              "  flex-grow: 1;\n",
              "}\n",
              "\n",
              "#sk-container-id-1 div.sk-parallel {\n",
              "  display: flex;\n",
              "  align-items: stretch;\n",
              "  justify-content: center;\n",
              "  background-color: var(--sklearn-color-background);\n",
              "  position: relative;\n",
              "}\n",
              "\n",
              "#sk-container-id-1 div.sk-parallel-item {\n",
              "  display: flex;\n",
              "  flex-direction: column;\n",
              "}\n",
              "\n",
              "#sk-container-id-1 div.sk-parallel-item:first-child::after {\n",
              "  align-self: flex-end;\n",
              "  width: 50%;\n",
              "}\n",
              "\n",
              "#sk-container-id-1 div.sk-parallel-item:last-child::after {\n",
              "  align-self: flex-start;\n",
              "  width: 50%;\n",
              "}\n",
              "\n",
              "#sk-container-id-1 div.sk-parallel-item:only-child::after {\n",
              "  width: 0;\n",
              "}\n",
              "\n",
              "/* Serial-specific style estimator block */\n",
              "\n",
              "#sk-container-id-1 div.sk-serial {\n",
              "  display: flex;\n",
              "  flex-direction: column;\n",
              "  align-items: center;\n",
              "  background-color: var(--sklearn-color-background);\n",
              "  padding-right: 1em;\n",
              "  padding-left: 1em;\n",
              "}\n",
              "\n",
              "\n",
              "/* Toggleable style: style used for estimator/Pipeline/ColumnTransformer box that is\n",
              "clickable and can be expanded/collapsed.\n",
              "- Pipeline and ColumnTransformer use this feature and define the default style\n",
              "- Estimators will overwrite some part of the style using the `sk-estimator` class\n",
              "*/\n",
              "\n",
              "/* Pipeline and ColumnTransformer style (default) */\n",
              "\n",
              "#sk-container-id-1 div.sk-toggleable {\n",
              "  /* Default theme specific background. It is overwritten whether we have a\n",
              "  specific estimator or a Pipeline/ColumnTransformer */\n",
              "  background-color: var(--sklearn-color-background);\n",
              "}\n",
              "\n",
              "/* Toggleable label */\n",
              "#sk-container-id-1 label.sk-toggleable__label {\n",
              "  cursor: pointer;\n",
              "  display: block;\n",
              "  width: 100%;\n",
              "  margin-bottom: 0;\n",
              "  padding: 0.5em;\n",
              "  box-sizing: border-box;\n",
              "  text-align: center;\n",
              "}\n",
              "\n",
              "#sk-container-id-1 label.sk-toggleable__label-arrow:before {\n",
              "  /* Arrow on the left of the label */\n",
              "  content: \"▸\";\n",
              "  float: left;\n",
              "  margin-right: 0.25em;\n",
              "  color: var(--sklearn-color-icon);\n",
              "}\n",
              "\n",
              "#sk-container-id-1 label.sk-toggleable__label-arrow:hover:before {\n",
              "  color: var(--sklearn-color-text);\n",
              "}\n",
              "\n",
              "/* Toggleable content - dropdown */\n",
              "\n",
              "#sk-container-id-1 div.sk-toggleable__content {\n",
              "  max-height: 0;\n",
              "  max-width: 0;\n",
              "  overflow: hidden;\n",
              "  text-align: left;\n",
              "  /* unfitted */\n",
              "  background-color: var(--sklearn-color-unfitted-level-0);\n",
              "}\n",
              "\n",
              "#sk-container-id-1 div.sk-toggleable__content.fitted {\n",
              "  /* fitted */\n",
              "  background-color: var(--sklearn-color-fitted-level-0);\n",
              "}\n",
              "\n",
              "#sk-container-id-1 div.sk-toggleable__content pre {\n",
              "  margin: 0.2em;\n",
              "  border-radius: 0.25em;\n",
              "  color: var(--sklearn-color-text);\n",
              "  /* unfitted */\n",
              "  background-color: var(--sklearn-color-unfitted-level-0);\n",
              "}\n",
              "\n",
              "#sk-container-id-1 div.sk-toggleable__content.fitted pre {\n",
              "  /* unfitted */\n",
              "  background-color: var(--sklearn-color-fitted-level-0);\n",
              "}\n",
              "\n",
              "#sk-container-id-1 input.sk-toggleable__control:checked~div.sk-toggleable__content {\n",
              "  /* Expand drop-down */\n",
              "  max-height: 200px;\n",
              "  max-width: 100%;\n",
              "  overflow: auto;\n",
              "}\n",
              "\n",
              "#sk-container-id-1 input.sk-toggleable__control:checked~label.sk-toggleable__label-arrow:before {\n",
              "  content: \"▾\";\n",
              "}\n",
              "\n",
              "/* Pipeline/ColumnTransformer-specific style */\n",
              "\n",
              "#sk-container-id-1 div.sk-label input.sk-toggleable__control:checked~label.sk-toggleable__label {\n",
              "  color: var(--sklearn-color-text);\n",
              "  background-color: var(--sklearn-color-unfitted-level-2);\n",
              "}\n",
              "\n",
              "#sk-container-id-1 div.sk-label.fitted input.sk-toggleable__control:checked~label.sk-toggleable__label {\n",
              "  background-color: var(--sklearn-color-fitted-level-2);\n",
              "}\n",
              "\n",
              "/* Estimator-specific style */\n",
              "\n",
              "/* Colorize estimator box */\n",
              "#sk-container-id-1 div.sk-estimator input.sk-toggleable__control:checked~label.sk-toggleable__label {\n",
              "  /* unfitted */\n",
              "  background-color: var(--sklearn-color-unfitted-level-2);\n",
              "}\n",
              "\n",
              "#sk-container-id-1 div.sk-estimator.fitted input.sk-toggleable__control:checked~label.sk-toggleable__label {\n",
              "  /* fitted */\n",
              "  background-color: var(--sklearn-color-fitted-level-2);\n",
              "}\n",
              "\n",
              "#sk-container-id-1 div.sk-label label.sk-toggleable__label,\n",
              "#sk-container-id-1 div.sk-label label {\n",
              "  /* The background is the default theme color */\n",
              "  color: var(--sklearn-color-text-on-default-background);\n",
              "}\n",
              "\n",
              "/* On hover, darken the color of the background */\n",
              "#sk-container-id-1 div.sk-label:hover label.sk-toggleable__label {\n",
              "  color: var(--sklearn-color-text);\n",
              "  background-color: var(--sklearn-color-unfitted-level-2);\n",
              "}\n",
              "\n",
              "/* Label box, darken color on hover, fitted */\n",
              "#sk-container-id-1 div.sk-label.fitted:hover label.sk-toggleable__label.fitted {\n",
              "  color: var(--sklearn-color-text);\n",
              "  background-color: var(--sklearn-color-fitted-level-2);\n",
              "}\n",
              "\n",
              "/* Estimator label */\n",
              "\n",
              "#sk-container-id-1 div.sk-label label {\n",
              "  font-family: monospace;\n",
              "  font-weight: bold;\n",
              "  display: inline-block;\n",
              "  line-height: 1.2em;\n",
              "}\n",
              "\n",
              "#sk-container-id-1 div.sk-label-container {\n",
              "  text-align: center;\n",
              "}\n",
              "\n",
              "/* Estimator-specific */\n",
              "#sk-container-id-1 div.sk-estimator {\n",
              "  font-family: monospace;\n",
              "  border: 1px dotted var(--sklearn-color-border-box);\n",
              "  border-radius: 0.25em;\n",
              "  box-sizing: border-box;\n",
              "  margin-bottom: 0.5em;\n",
              "  /* unfitted */\n",
              "  background-color: var(--sklearn-color-unfitted-level-0);\n",
              "}\n",
              "\n",
              "#sk-container-id-1 div.sk-estimator.fitted {\n",
              "  /* fitted */\n",
              "  background-color: var(--sklearn-color-fitted-level-0);\n",
              "}\n",
              "\n",
              "/* on hover */\n",
              "#sk-container-id-1 div.sk-estimator:hover {\n",
              "  /* unfitted */\n",
              "  background-color: var(--sklearn-color-unfitted-level-2);\n",
              "}\n",
              "\n",
              "#sk-container-id-1 div.sk-estimator.fitted:hover {\n",
              "  /* fitted */\n",
              "  background-color: var(--sklearn-color-fitted-level-2);\n",
              "}\n",
              "\n",
              "/* Specification for estimator info (e.g. \"i\" and \"?\") */\n",
              "\n",
              "/* Common style for \"i\" and \"?\" */\n",
              "\n",
              ".sk-estimator-doc-link,\n",
              "a:link.sk-estimator-doc-link,\n",
              "a:visited.sk-estimator-doc-link {\n",
              "  float: right;\n",
              "  font-size: smaller;\n",
              "  line-height: 1em;\n",
              "  font-family: monospace;\n",
              "  background-color: var(--sklearn-color-background);\n",
              "  border-radius: 1em;\n",
              "  height: 1em;\n",
              "  width: 1em;\n",
              "  text-decoration: none !important;\n",
              "  margin-left: 1ex;\n",
              "  /* unfitted */\n",
              "  border: var(--sklearn-color-unfitted-level-1) 1pt solid;\n",
              "  color: var(--sklearn-color-unfitted-level-1);\n",
              "}\n",
              "\n",
              ".sk-estimator-doc-link.fitted,\n",
              "a:link.sk-estimator-doc-link.fitted,\n",
              "a:visited.sk-estimator-doc-link.fitted {\n",
              "  /* fitted */\n",
              "  border: var(--sklearn-color-fitted-level-1) 1pt solid;\n",
              "  color: var(--sklearn-color-fitted-level-1);\n",
              "}\n",
              "\n",
              "/* On hover */\n",
              "div.sk-estimator:hover .sk-estimator-doc-link:hover,\n",
              ".sk-estimator-doc-link:hover,\n",
              "div.sk-label-container:hover .sk-estimator-doc-link:hover,\n",
              ".sk-estimator-doc-link:hover {\n",
              "  /* unfitted */\n",
              "  background-color: var(--sklearn-color-unfitted-level-3);\n",
              "  color: var(--sklearn-color-background);\n",
              "  text-decoration: none;\n",
              "}\n",
              "\n",
              "div.sk-estimator.fitted:hover .sk-estimator-doc-link.fitted:hover,\n",
              ".sk-estimator-doc-link.fitted:hover,\n",
              "div.sk-label-container:hover .sk-estimator-doc-link.fitted:hover,\n",
              ".sk-estimator-doc-link.fitted:hover {\n",
              "  /* fitted */\n",
              "  background-color: var(--sklearn-color-fitted-level-3);\n",
              "  color: var(--sklearn-color-background);\n",
              "  text-decoration: none;\n",
              "}\n",
              "\n",
              "/* Span, style for the box shown on hovering the info icon */\n",
              ".sk-estimator-doc-link span {\n",
              "  display: none;\n",
              "  z-index: 9999;\n",
              "  position: relative;\n",
              "  font-weight: normal;\n",
              "  right: .2ex;\n",
              "  padding: .5ex;\n",
              "  margin: .5ex;\n",
              "  width: min-content;\n",
              "  min-width: 20ex;\n",
              "  max-width: 50ex;\n",
              "  color: var(--sklearn-color-text);\n",
              "  box-shadow: 2pt 2pt 4pt #999;\n",
              "  /* unfitted */\n",
              "  background: var(--sklearn-color-unfitted-level-0);\n",
              "  border: .5pt solid var(--sklearn-color-unfitted-level-3);\n",
              "}\n",
              "\n",
              ".sk-estimator-doc-link.fitted span {\n",
              "  /* fitted */\n",
              "  background: var(--sklearn-color-fitted-level-0);\n",
              "  border: var(--sklearn-color-fitted-level-3);\n",
              "}\n",
              "\n",
              ".sk-estimator-doc-link:hover span {\n",
              "  display: block;\n",
              "}\n",
              "\n",
              "/* \"?\"-specific style due to the `<a>` HTML tag */\n",
              "\n",
              "#sk-container-id-1 a.estimator_doc_link {\n",
              "  float: right;\n",
              "  font-size: 1rem;\n",
              "  line-height: 1em;\n",
              "  font-family: monospace;\n",
              "  background-color: var(--sklearn-color-background);\n",
              "  border-radius: 1rem;\n",
              "  height: 1rem;\n",
              "  width: 1rem;\n",
              "  text-decoration: none;\n",
              "  /* unfitted */\n",
              "  color: var(--sklearn-color-unfitted-level-1);\n",
              "  border: var(--sklearn-color-unfitted-level-1) 1pt solid;\n",
              "}\n",
              "\n",
              "#sk-container-id-1 a.estimator_doc_link.fitted {\n",
              "  /* fitted */\n",
              "  border: var(--sklearn-color-fitted-level-1) 1pt solid;\n",
              "  color: var(--sklearn-color-fitted-level-1);\n",
              "}\n",
              "\n",
              "/* On hover */\n",
              "#sk-container-id-1 a.estimator_doc_link:hover {\n",
              "  /* unfitted */\n",
              "  background-color: var(--sklearn-color-unfitted-level-3);\n",
              "  color: var(--sklearn-color-background);\n",
              "  text-decoration: none;\n",
              "}\n",
              "\n",
              "#sk-container-id-1 a.estimator_doc_link.fitted:hover {\n",
              "  /* fitted */\n",
              "  background-color: var(--sklearn-color-fitted-level-3);\n",
              "}\n",
              "</style><div id=\"sk-container-id-1\" class=\"sk-top-container\"><div class=\"sk-text-repr-fallback\"><pre>KNeighborsClassifier(metric=&#x27;cosine&#x27;, n_neighbors=3)</pre><b>In a Jupyter environment, please rerun this cell to show the HTML representation or trust the notebook. <br />On GitHub, the HTML representation is unable to render, please try loading this page with nbviewer.org.</b></div><div class=\"sk-container\" hidden><div class=\"sk-item\"><div class=\"sk-estimator fitted sk-toggleable\"><input class=\"sk-toggleable__control sk-hidden--visually\" id=\"sk-estimator-id-1\" type=\"checkbox\" checked><label for=\"sk-estimator-id-1\" class=\"sk-toggleable__label fitted sk-toggleable__label-arrow fitted\">&nbsp;&nbsp;KNeighborsClassifier<a class=\"sk-estimator-doc-link fitted\" rel=\"noreferrer\" target=\"_blank\" href=\"https://scikit-learn.org/1.5/modules/generated/sklearn.neighbors.KNeighborsClassifier.html\">?<span>Documentation for KNeighborsClassifier</span></a><span class=\"sk-estimator-doc-link fitted\">i<span>Fitted</span></span></label><div class=\"sk-toggleable__content fitted\"><pre>KNeighborsClassifier(metric=&#x27;cosine&#x27;, n_neighbors=3)</pre></div> </div></div></div></div>"
            ]
          },
          "metadata": {},
          "execution_count": 40
        }
      ]
    },
    {
      "cell_type": "code",
      "source": [
        "from sklearn.ensemble import RandomForestClassifier\n",
        "\n",
        "rf = RandomForestClassifier(n_estimators=100, random_state=42)\n",
        "rf.fit(X_train, y_train)\n",
        "\n",
        "y_pred = rf.predict(X_test)\n",
        "accuracy = accuracy_score(y_test, y_pred)\n",
        "print(f\"Random Forest Model Accuracy: {accuracy:.2f}\")\n"
      ],
      "metadata": {
        "colab": {
          "base_uri": "https://localhost:8080/"
        },
        "id": "7eVsadLJJmhr",
        "outputId": "09bfdf41-1863-4ddf-fb8e-6ee2c9c35c98"
      },
      "execution_count": null,
      "outputs": [
        {
          "output_type": "stream",
          "name": "stdout",
          "text": [
            "Random Forest Model Accuracy: 0.00\n"
          ]
        }
      ]
    },
    {
      "cell_type": "code",
      "source": [
        "print(\"Feature vector shape:\", features.shape)\n",
        "print(\"First feature vector:\", features[0])\n"
      ],
      "metadata": {
        "colab": {
          "base_uri": "https://localhost:8080/"
        },
        "id": "TDnAs2muJp_K",
        "outputId": "b9d83e01-15d6-438c-81e3-3ca7f4f2fccc"
      },
      "execution_count": null,
      "outputs": [
        {
          "output_type": "stream",
          "name": "stdout",
          "text": [
            "Feature vector shape: (88, 40)\n",
            "First feature vector: [ 1.0956514  -0.92216635 -0.29005492 -0.674329   -0.15745956 -0.4275122\n",
            "  0.02150384 -0.38138762  0.41147733  0.24697475  0.03471272  0.4856309\n",
            " -0.26145142  0.8730092   0.08627133 -0.25879458  0.1214345  -0.12288289\n",
            " -0.5817319  -0.4430843  -0.20640697 -0.6174013  -1.0527086  -0.42649037\n",
            " -0.52726316 -0.86531675 -0.10012288 -0.30649027 -0.19125897  0.47484705\n",
            " -0.3756746  -0.35919183 -0.0502848   0.06545401  0.4664793   0.6226095\n",
            "  0.9050975   1.06044     0.25080872  0.65141165]\n"
          ]
        }
      ]
    },
    {
      "cell_type": "code",
      "source": [
        "import librosa.display\n",
        "import matplotlib.pyplot as plt\n",
        "\n",
        "y, sr = librosa.load(song_path, duration=30)  # Example for the first song\n",
        "plt.figure(figsize=(10, 6))\n",
        "librosa.display.waveshow(y, sr=sr)\n",
        "plt.title(\"Waveform of First Song\")\n",
        "plt.show()\n"
      ],
      "metadata": {
        "colab": {
          "base_uri": "https://localhost:8080/",
          "height": 564
        },
        "id": "KGygWXXQJ6cU",
        "outputId": "1119545a-bbc9-441a-e50f-2dca10f00132"
      },
      "execution_count": null,
      "outputs": [
        {
          "output_type": "display_data",
          "data": {
            "text/plain": [
              "<Figure size 1000x600 with 1 Axes>"
            ],
            "image/png": "[encoded data removed]"
          },
          "metadata": {}
        }
      ]
    },
    {
      "cell_type": "code",
      "source": [
        "print(\"Unique song labels:\", np.unique(song_names))\n",
        "print(\"Label distribution:\", Counter(song_names))"
      ],
      "metadata": {
        "colab": {
          "base_uri": "https://localhost:8080/"
        },
        "id": "o8jp4yRMJ-66",
        "outputId": "c873a7eb-49b9-43c7-a139-ebbe2e0880c0"
      },
      "execution_count": null,
      "outputs": [
        {
          "output_type": "stream",
          "name": "stdout",
          "text": [
            "Unique song labels: ['505.mp3' 'A Little Death.mp3' 'Attitude (I Want More).mp3'\n",
            " 'BIRDS OF A FEATHER.mp3' 'Babydoll.mp3' 'Bad Habit.mp3'\n",
            " 'Better in the Dark.mp3' 'Birds Dont Sing.mp3' 'Borderline.mp3'\n",
            " 'Cake By The Ocean.mp3' 'Can I Call You Tonight_.mp3'\n",
            " 'Chamber Of Reflection.mp3' 'Chand Sifarish.mp3' 'Chit Chat.mp3'\n",
            " 'Cigarettes out the Window.mp3' 'Circles.mp3' 'Cocaine Sunday.mp3'\n",
            " 'Counting Stars.mp3' 'Cry Baby.mp3'\n",
            " 'Cupid – Twin Ver. (feat. Sabrina Carpenter).mp3' 'Dangal.mp3'\n",
            " 'Dark Red.mp3' 'Die Hard.mp3' 'Doubt.mp3' 'Duvet.mp3' 'Electric Love.mp3'\n",
            " 'Escapism..mp3' 'Forever Young.mp3' 'Formula.mp3' 'Freaks.mp3'\n",
            " 'From The Start.mp3' 'FΛSHION.mp3' 'Ghost.mp3'\n",
            " 'Havana (feat. Young Thug).mp3' 'Honey.mp3' 'Honeypie.mp3'\n",
            " 'I Die Again.mp3' 'I Wanna Be Yours.mp3' \"I Was Made For Lovin' You.mp3\"\n",
            " 'Kamikaze.mp3' 'Kill Bill.mp3' 'Knee Socks.mp3' 'Lavender Sunflower.mp3'\n",
            " 'Let It Happen.mp3' 'Lovers Rock.mp3' 'Maniac.mp3' 'Mona Lisa.mp3'\n",
            " 'Muskaanein Jhooti Hai.mp3'\n",
            " 'New Gold (feat. Tame Impala and Bootie Brown).mp3'\n",
            " 'New Person, Same Old Mistakes.mp3' 'Next Exit.mp3'\n",
            " 'Nico and the Niners.mp3' 'Not Allowed.mp3' 'Raabta.mp3'\n",
            " 'Remember When.mp3' 'Riptide.mp3' 'SAY THAT YOU MISS ME (3).mp3'\n",
            " 'See You Again (feat. Kali Uchis).mp3' 'See you Soon.mp3'\n",
            " 'Shut up My Moms Calling.mp3' 'Solo Mission.mp3'\n",
            " 'Something About You.mp3' 'Stress Relief.mp3' 'Sunsetz.mp3' 'Swim.mp3'\n",
            " 'THE SHADE.mp3' 'Take Me To The Sun.mp3' 'Tek It.mp3' 'Tell Em.mp3'\n",
            " 'The Night We Met.mp3' 'This Side of Paradise.mp3' 'Those Eyes.mp3'\n",
            " 'Undercover Martyn.mp3' 'Unlovable.mp3' 'Up & Down.mp3'\n",
            " 'Wait a Minute!.mp3' 'Washing Machine Heart.mp3' 'You Get Me So High.mp3'\n",
            " 'Young.mp3' 'Youngblood.mp3'\n",
            " \"fools (can't help falling in love) (feat. Sody).mp3\" 'golden hour.mp3'\n",
            " 'i like the way you kiss me.mp3' \"if u think i'm pretty.mp3\"\n",
            " 'legroom.mp3' 'scars.mp3' 'telepatía.mp3'\n",
            " 'we fell in love in october.mp3']\n",
            "Label distribution: Counter({'legroom.mp3': 1, 'Cigarettes out the Window.mp3': 1, 'Can I Call You Tonight_.mp3': 1, 'Better in the Dark.mp3': 1, '505.mp3': 1, 'BIRDS OF A FEATHER.mp3': 1, 'Birds Dont Sing.mp3': 1, 'Bad Habit.mp3': 1, 'Babydoll.mp3': 1, 'Attitude (I Want More).mp3': 1, 'A Little Death.mp3': 1, 'Stress Relief.mp3': 1, 'Something About You.mp3': 1, 'SAY THAT YOU MISS ME (3).mp3': 1, 'Not Allowed.mp3': 1, 'Lovers Rock.mp3': 1, 'Let It Happen.mp3': 1, 'Doubt.mp3': 1, 'Die Hard.mp3': 1, 'Dark Red.mp3': 1, 'Dangal.mp3': 1, 'Cupid – Twin Ver. (feat. Sabrina Carpenter).mp3': 1, 'Cry Baby.mp3': 1, 'Counting Stars.mp3': 1, 'Cocaine Sunday.mp3': 1, 'Circles.mp3': 1, 'Chit Chat.mp3': 1, 'Borderline.mp3': 1, 'Cake By The Ocean.mp3': 1, 'Chamber Of Reflection.mp3': 1, 'Chand Sifarish.mp3': 1, 'Freaks.mp3': 1, 'Formula.mp3': 1, 'Forever Young.mp3': 1, \"fools (can't help falling in love) (feat. Sody).mp3\": 1, 'Escapism..mp3': 1, 'Electric Love.mp3': 1, 'Duvet.mp3': 1, 'Honeypie.mp3': 1, 'Honey.mp3': 1, 'Havana (feat. Young Thug).mp3': 1, 'golden hour.mp3': 1, 'Ghost.mp3': 1, 'FΛSHION.mp3': 1, 'From The Start.mp3': 1, 'Kill Bill.mp3': 1, 'Kamikaze.mp3': 1, \"if u think i'm pretty.mp3\": 1, \"I Was Made For Lovin' You.mp3\": 1, 'I Wanna Be Yours.mp3': 1, 'i like the way you kiss me.mp3': 1, 'I Die Again.mp3': 1, 'New Gold (feat. Tame Impala and Bootie Brown).mp3': 1, 'Muskaanein Jhooti Hai.mp3': 1, 'Mona Lisa.mp3': 1, 'Maniac.mp3': 1, 'Lavender Sunflower.mp3': 1, 'Knee Socks.mp3': 1, 'scars.mp3': 1, 'Riptide.mp3': 1, 'Remember When.mp3': 1, 'Raabta.mp3': 1, 'Nico and the Niners.mp3': 1, 'Next Exit.mp3': 1, 'New Person, Same Old Mistakes.mp3': 1, 'Take Me To The Sun.mp3': 1, 'Swim.mp3': 1, 'Sunsetz.mp3': 1, 'Solo Mission.mp3': 1, 'Shut up My Moms Calling.mp3': 1, 'See you Soon.mp3': 1, 'See You Again (feat. Kali Uchis).mp3': 1, 'Wait a Minute!.mp3': 1, 'Up & Down.mp3': 1, 'Unlovable.mp3': 1, 'Undercover Martyn.mp3': 1, 'Those Eyes.mp3': 1, 'This Side of Paradise.mp3': 1, 'THE SHADE.mp3': 1, 'The Night We Met.mp3': 1, 'Tell Em.mp3': 1, 'telepatía.mp3': 1, 'Tek It.mp3': 1, 'You Get Me So High.mp3': 1, 'we fell in love in october.mp3': 1, 'Young.mp3': 1, 'Washing Machine Heart.mp3': 1, 'Youngblood.mp3': 1})\n"
          ]
        }
      ]
    },
    {
      "cell_type": "code",
      "source": [
        "from sklearn.metrics import classification_report\n",
        "print(classification_report(y_test, y_pred))\n"
      ],
      "metadata": {
        "colab": {
          "base_uri": "https://localhost:8080/"
        },
        "id": "zDV8KlWtKeUs",
        "outputId": "6d81960b-7490-4e10-a907-c4738565d4ba"
      },
      "execution_count": null,
      "outputs": [
        {
          "output_type": "stream",
          "name": "stdout",
          "text": [
            "                                                     precision    recall  f1-score   support\n",
            "\n",
            "                                            505.mp3       0.00      0.00      0.00       1.0\n",
            "                                 A Little Death.mp3       0.00      0.00      0.00       1.0\n",
            "                         Attitude (I Want More).mp3       0.00      0.00      0.00       0.0\n",
            "                                      Bad Habit.mp3       0.00      0.00      0.00       0.0\n",
            "                                     Borderline.mp3       0.00      0.00      0.00       0.0\n",
            "                                      Chit Chat.mp3       0.00      0.00      0.00       1.0\n",
            "                      Cigarettes out the Window.mp3       0.00      0.00      0.00       0.0\n",
            "                                        Circles.mp3       0.00      0.00      0.00       0.0\n",
            "                                       Cry Baby.mp3       0.00      0.00      0.00       1.0\n",
            "                                       Dark Red.mp3       0.00      0.00      0.00       0.0\n",
            "                                       Die Hard.mp3       0.00      0.00      0.00       1.0\n",
            "                                  Forever Young.mp3       0.00      0.00      0.00       1.0\n",
            "                      I Was Made For Lovin' You.mp3       0.00      0.00      0.00       0.0\n",
            "                             Lavender Sunflower.mp3       0.00      0.00      0.00       0.0\n",
            "                                  Let It Happen.mp3       0.00      0.00      0.00       0.0\n",
            "                          Muskaanein Jhooti Hai.mp3       0.00      0.00      0.00       1.0\n",
            "                  New Person, Same Old Mistakes.mp3       0.00      0.00      0.00       1.0\n",
            "                                        Riptide.mp3       0.00      0.00      0.00       0.0\n",
            "                                   Solo Mission.mp3       0.00      0.00      0.00       1.0\n",
            "                            Something About You.mp3       0.00      0.00      0.00       1.0\n",
            "                                        Sunsetz.mp3       0.00      0.00      0.00       1.0\n",
            "                             Take Me To The Sun.mp3       0.00      0.00      0.00       1.0\n",
            "                                        Tell Em.mp3       0.00      0.00      0.00       1.0\n",
            "                               The Night We Met.mp3       0.00      0.00      0.00       1.0\n",
            "                                     Those Eyes.mp3       0.00      0.00      0.00       1.0\n",
            "                                      Unlovable.mp3       0.00      0.00      0.00       0.0\n",
            "                                          Young.mp3       0.00      0.00      0.00       1.0\n",
            "fools (can't help falling in love) (feat. Sody).mp3       0.00      0.00      0.00       0.0\n",
            "                          if u think i'm pretty.mp3       0.00      0.00      0.00       0.0\n",
            "                                        legroom.mp3       0.00      0.00      0.00       1.0\n",
            "                     we fell in love in october.mp3       0.00      0.00      0.00       1.0\n",
            "\n",
            "                                           accuracy                           0.00      18.0\n",
            "                                          macro avg       0.00      0.00      0.00      18.0\n",
            "                                       weighted avg       0.00      0.00      0.00      18.0\n",
            "\n"
          ]
        },
        {
          "output_type": "stream",
          "name": "stderr",
          "text": [
            "/usr/local/lib/python3.10/dist-packages/sklearn/metrics/_classification.py:1531: UndefinedMetricWarning: Precision is ill-defined and being set to 0.0 in labels with no predicted samples. Use `zero_division` parameter to control this behavior.\n",
            "  _warn_prf(average, modifier, f\"{metric.capitalize()} is\", len(result))\n",
            "/usr/local/lib/python3.10/dist-packages/sklearn/metrics/_classification.py:1531: UndefinedMetricWarning: Recall is ill-defined and being set to 0.0 in labels with no true samples. Use `zero_division` parameter to control this behavior.\n",
            "  _warn_prf(average, modifier, f\"{metric.capitalize()} is\", len(result))\n",
            "/usr/local/lib/python3.10/dist-packages/sklearn/metrics/_classification.py:1531: UndefinedMetricWarning: Precision is ill-defined and being set to 0.0 in labels with no predicted samples. Use `zero_division` parameter to control this behavior.\n",
            "  _warn_prf(average, modifier, f\"{metric.capitalize()} is\", len(result))\n",
            "/usr/local/lib/python3.10/dist-packages/sklearn/metrics/_classification.py:1531: UndefinedMetricWarning: Recall is ill-defined and being set to 0.0 in labels with no true samples. Use `zero_division` parameter to control this behavior.\n",
            "  _warn_prf(average, modifier, f\"{metric.capitalize()} is\", len(result))\n",
            "/usr/local/lib/python3.10/dist-packages/sklearn/metrics/_classification.py:1531: UndefinedMetricWarning: Precision is ill-defined and being set to 0.0 in labels with no predicted samples. Use `zero_division` parameter to control this behavior.\n",
            "  _warn_prf(average, modifier, f\"{metric.capitalize()} is\", len(result))\n",
            "/usr/local/lib/python3.10/dist-packages/sklearn/metrics/_classification.py:1531: UndefinedMetricWarning: Recall is ill-defined and being set to 0.0 in labels with no true samples. Use `zero_division` parameter to control this behavior.\n",
            "  _warn_prf(average, modifier, f\"{metric.capitalize()} is\", len(result))\n"
          ]
        }
      ]
    },
    {
      "cell_type": "code",
      "source": [
        "!ffmpeg -i \"/content/drive/MyDrive/[SPOTDOWNLOADER.COM] ML dataset/505.mp3\" -acodec pcm_s16le \"/content/drive/MyDrive/[SPOTDOWNLOADER.COM] ML dataset/505.wav\"\n"
      ],
      "metadata": {
        "colab": {
          "base_uri": "https://localhost:8080/"
        },
        "id": "dPNtGcJZL58t",
        "outputId": "762dcaff-28e1-4138-c52a-19c652ce1aa7"
      },
      "execution_count": null,
      "outputs": [
        {
          "output_type": "stream",
          "name": "stdout",
          "text": [
            "ffmpeg version 4.4.2-0ubuntu0.22.04.1 Copyright (c) 2000-2021 the FFmpeg developers\n",
            "  built with gcc 11 (Ubuntu 11.2.0-19ubuntu1)\n",
            "  configuration: --prefix=/usr --extra-version=0ubuntu0.22.04.1 --toolchain=hardened --libdir=/usr/lib/x86_64-linux-gnu --incdir=/usr/include/x86_64-linux-gnu --arch=amd64 --enable-gpl --disable-stripping --enable-gnutls --enable-ladspa --enable-libaom --enable-libass --enable-libbluray --enable-libbs2b --enable-libcaca --enable-libcdio --enable-libcodec2 --enable-libdav1d --enable-libflite --enable-libfontconfig --enable-libfreetype --enable-libfribidi --enable-libgme --enable-libgsm --enable-libjack --enable-libmp3lame --enable-libmysofa --enable-libopenjpeg --enable-libopenmpt --enable-libopus --enable-libpulse --enable-librabbitmq --enable-librubberband --enable-libshine --enable-libsnappy --enable-libsoxr --enable-libspeex --enable-libsrt --enable-libssh --enable-libtheora --enable-libtwolame --enable-libvidstab --enable-libvorbis --enable-libvpx --enable-libwebp --enable-libx265 --enable-libxml2 --enable-libxvid --enable-libzimg --enable-libzmq --enable-libzvbi --enable-lv2 --enable-omx --enable-openal --enable-opencl --enable-opengl --enable-sdl2 --enable-pocketsphinx --enable-librsvg --enable-libmfx --enable-libdc1394 --enable-libdrm --enable-libiec61883 --enable-chromaprint --enable-frei0r --enable-libx264 --enable-shared\n",
            "  libavutil      56. 70.100 / 56. 70.100\n",
            "  libavcodec     58.134.100 / 58.134.100\n",
            "  libavformat    58. 76.100 / 58. 76.100\n",
            "  libavdevice    58. 13.100 / 58. 13.100\n",
            "  libavfilter     7.110.100 /  7.110.100\n",
            "  libswscale      5.  9.100 /  5.  9.100\n",
            "  libswresample   3.  9.100 /  3.  9.100\n",
            "  libpostproc    55.  9.100 / 55.  9.100\n",
            "Input #0, mp3, from '/content/drive/MyDrive/[SPOTDOWNLOADER.COM] ML dataset/505.mp3':\n",
            "  Metadata:\n",
            "    album           : Favourite Worst Nightmare\n",
            "    title           : 505\n",
            "    artist          : Arctic Monkeys\n",
            "    encoder         : Lavf58.29.100\n",
            "  Duration: 00:04:13.63, start: 0.023021, bitrate: 136 kb/s\n",
            "  Stream #0:0: Audio: mp3, 48000 Hz, stereo, fltp, 133 kb/s\n",
            "    Metadata:\n",
            "      encoder         : Lavc58.54\n",
            "  Stream #0:1: Video: mjpeg (Baseline), yuvj444p(pc, bt470bg/unknown/unknown), 640x640 [SAR 118:118 DAR 1:1], 90k tbr, 90k tbn, 90k tbc (attached pic)\n",
            "    Metadata:\n",
            "      comment         : Other\n",
            "Stream mapping:\n",
            "  Stream #0:0 -> #0:0 (mp3 (mp3float) -> pcm_s16le (native))\n",
            "Press [q] to stop, [?] for help\n",
            "Output #0, wav, to '/content/drive/MyDrive/[SPOTDOWNLOADER.COM] ML dataset/505.wav':\n",
            "  Metadata:\n",
            "    IPRD            : Favourite Worst Nightmare\n",
            "    INAM            : 505\n",
            "    IART            : Arctic Monkeys\n",
            "    ISFT            : Lavf58.76.100\n",
            "  Stream #0:0: Audio: pcm_s16le ([1][0][0][0] / 0x0001), 48000 Hz, stereo, s16, 1536 kb/s\n",
            "    Metadata:\n",
            "      encoder         : Lavc58.134.100 pcm_s16le\n",
            "size=   47548kB time=00:04:13.58 bitrate=1536.0kbits/s speed= 415x    \n",
            "video:0kB audio:47548kB subtitle:0kB other streams:0kB global headers:0kB muxing overhead: 0.000304%\n"
          ]
        }
      ]
    },
    {
      "cell_type": "code",
      "source": [
        "file_path = '/content/drive/MyDrive/[SPOTDOWNLOADER.COM] ML dataset/505.wav'\n",
        "features = extract_features(file_path)\n",
        "print(features)\n"
      ],
      "metadata": {
        "colab": {
          "base_uri": "https://localhost:8080/"
        },
        "id": "UepXN85oMRkx",
        "outputId": "a8bbf4da-26d1-400e-f231-53bb661aa6b7"
      },
      "execution_count": null,
      "outputs": [
        {
          "output_type": "stream",
          "name": "stdout",
          "text": [
            "[-1.4031940e+02  1.5569052e+02 -3.2171181e+01  4.9277203e+01\n",
            "  3.8215928e+00  2.7456575e+01 -2.0580125e+00  2.8919685e+00\n",
            " -6.0564079e+00 -2.2396634e+00 -2.9444585e+00 -7.4931030e+00\n",
            " -1.8082684e+00 -4.4042492e+00 -2.6255640e-01 -3.2765222e+00\n",
            "  3.3629627e+00  6.2897438e-01  7.1015658e+00 -1.0752451e+00\n",
            "  7.0061308e-01  2.0414917e+00  2.3231375e+00  1.4434785e+00\n",
            " -2.0837276e+00  1.4750681e+00 -2.3187475e+00 -8.1405413e-01\n",
            " -5.1391015e+00 -1.2034180e+00 -2.9405134e+00 -3.3753848e+00\n",
            " -9.7210550e-01  8.2337201e-01 -4.7302499e-01 -2.7244005e+00\n",
            " -1.0649370e+00 -1.8277967e+00  1.5063326e-01 -1.7616661e+00]\n"
          ]
        }
      ]
    },
    {
      "cell_type": "code",
      "source": [
        "import os\n",
        "\n",
        "dataset_path = '/content/drive/MyDrive/[SPOTDOWNLOADER.COM] ML dataset/'\n",
        "\n",
        "all_files = os.listdir(dataset_path)\n",
        "\n",
        "mp3_files = [file for file in all_files if file.endswith('.mp3')]\n"
      ],
      "metadata": {
        "id": "21jbiFuoMSXA"
      },
      "execution_count": null,
      "outputs": []
    },
    {
      "cell_type": "code",
      "source": [
        "from pydub import AudioSegment\n",
        "import os\n",
        "\n",
        "dataset_path = '/content/drive/MyDrive/[SPOTDOWNLOADER.COM] ML dataset/'\n",
        "\n",
        "all_files = os.listdir(dataset_path)\n",
        "mp3_files = [file for file in all_files if file.endswith('.mp3')]\n",
        "\n",
        "def convert_mp3_to_wav(mp3_path):\n",
        "    try:\n",
        "        audio = AudioSegment.from_mp3(mp3_path)\n",
        "        wav_path = mp3_path.replace('.mp3', '.wav')\n",
        "        audio.export(wav_path, format=\"wav\")\n",
        "        return wav_path\n",
        "    except Exception as e:\n",
        "        print(f\"Error processing {mp3_path}: {e}\")\n",
        "        return None\n",
        "\n",
        "for mp3_file in mp3_files:\n",
        "    mp3_path = os.path.join(dataset_path, mp3_file)\n",
        "    wav_path = convert_mp3_to_wav(mp3_path)\n",
        "\n",
        "    if wav_path:\n",
        "        print(f\"Successfully converted {mp3_file} to WAV.\")\n",
        "    else:\n",
        "        print(f\"Skipping {mp3_file}.\")\n",
        "\n"
      ],
      "metadata": {
        "colab": {
          "base_uri": "https://localhost:8080/"
        },
        "id": "L9AgfxjjM4JB",
        "outputId": "df544d81-d0ed-4b7c-ea57-9f47db41e26b"
      },
      "execution_count": null,
      "outputs": [
        {
          "output_type": "stream",
          "name": "stdout",
          "text": [
            "Successfully converted legroom.mp3 to WAV.\n",
            "Successfully converted Cigarettes out the Window.mp3 to WAV.\n",
            "Successfully converted Can I Call You Tonight_.mp3 to WAV.\n",
            "Successfully converted Better in the Dark.mp3 to WAV.\n",
            "Successfully converted 505.mp3 to WAV.\n",
            "Successfully converted BIRDS OF A FEATHER.mp3 to WAV.\n",
            "Successfully converted Birds Dont Sing.mp3 to WAV.\n",
            "Successfully converted Bad Habit.mp3 to WAV.\n",
            "Successfully converted Babydoll.mp3 to WAV.\n",
            "Successfully converted Attitude (I Want More).mp3 to WAV.\n",
            "Successfully converted A Little Death.mp3 to WAV.\n",
            "Successfully converted Stress Relief.mp3 to WAV.\n",
            "Successfully converted Something About You.mp3 to WAV.\n",
            "Successfully converted SAY THAT YOU MISS ME (3).mp3 to WAV.\n",
            "Successfully converted Not Allowed.mp3 to WAV.\n",
            "Successfully converted Lovers Rock.mp3 to WAV.\n",
            "Successfully converted Let It Happen.mp3 to WAV.\n",
            "Successfully converted Doubt.mp3 to WAV.\n",
            "Successfully converted Die Hard.mp3 to WAV.\n",
            "Successfully converted Dark Red.mp3 to WAV.\n",
            "Successfully converted Dangal.mp3 to WAV.\n",
            "Successfully converted Cupid – Twin Ver. (feat. Sabrina Carpenter).mp3 to WAV.\n",
            "Successfully converted Cry Baby.mp3 to WAV.\n",
            "Successfully converted Counting Stars.mp3 to WAV.\n",
            "Successfully converted Cocaine Sunday.mp3 to WAV.\n",
            "Successfully converted Circles.mp3 to WAV.\n",
            "Successfully converted Chit Chat.mp3 to WAV.\n",
            "Successfully converted Borderline.mp3 to WAV.\n",
            "Successfully converted Cake By The Ocean.mp3 to WAV.\n",
            "Successfully converted Chamber Of Reflection.mp3 to WAV.\n",
            "Successfully converted Chand Sifarish.mp3 to WAV.\n",
            "Successfully converted Freaks.mp3 to WAV.\n",
            "Successfully converted Formula.mp3 to WAV.\n",
            "Successfully converted Forever Young.mp3 to WAV.\n",
            "Successfully converted fools (can't help falling in love) (feat. Sody).mp3 to WAV.\n",
            "Successfully converted Escapism..mp3 to WAV.\n",
            "Successfully converted Electric Love.mp3 to WAV.\n",
            "Successfully converted Duvet.mp3 to WAV.\n",
            "Successfully converted Honeypie.mp3 to WAV.\n",
            "Successfully converted Honey.mp3 to WAV.\n",
            "Successfully converted Havana (feat. Young Thug).mp3 to WAV.\n",
            "Successfully converted golden hour.mp3 to WAV.\n",
            "Successfully converted Ghost.mp3 to WAV.\n",
            "Successfully converted FΛSHION.mp3 to WAV.\n",
            "Successfully converted From The Start.mp3 to WAV.\n",
            "Successfully converted Kill Bill.mp3 to WAV.\n",
            "Successfully converted Kamikaze.mp3 to WAV.\n",
            "Successfully converted if u think i'm pretty.mp3 to WAV.\n",
            "Successfully converted I Was Made For Lovin' You.mp3 to WAV.\n",
            "Successfully converted I Wanna Be Yours.mp3 to WAV.\n",
            "Successfully converted i like the way you kiss me.mp3 to WAV.\n",
            "Successfully converted I Die Again.mp3 to WAV.\n",
            "Successfully converted New Gold (feat. Tame Impala and Bootie Brown).mp3 to WAV.\n",
            "Successfully converted Muskaanein Jhooti Hai.mp3 to WAV.\n",
            "Successfully converted Mona Lisa.mp3 to WAV.\n",
            "Successfully converted Maniac.mp3 to WAV.\n",
            "Successfully converted Lavender Sunflower.mp3 to WAV.\n",
            "Successfully converted Knee Socks.mp3 to WAV.\n",
            "Successfully converted scars.mp3 to WAV.\n",
            "Successfully converted Riptide.mp3 to WAV.\n",
            "Successfully converted Remember When.mp3 to WAV.\n",
            "Successfully converted Raabta.mp3 to WAV.\n",
            "Successfully converted Nico and the Niners.mp3 to WAV.\n",
            "Successfully converted Next Exit.mp3 to WAV.\n",
            "Successfully converted New Person, Same Old Mistakes.mp3 to WAV.\n",
            "Successfully converted Take Me To The Sun.mp3 to WAV.\n",
            "Successfully converted Swim.mp3 to WAV.\n",
            "Successfully converted Sunsetz.mp3 to WAV.\n",
            "Successfully converted Solo Mission.mp3 to WAV.\n",
            "Successfully converted Shut up My Moms Calling.mp3 to WAV.\n",
            "Successfully converted See you Soon.mp3 to WAV.\n",
            "Successfully converted See You Again (feat. Kali Uchis).mp3 to WAV.\n",
            "Successfully converted Wait a Minute!.mp3 to WAV.\n",
            "Successfully converted Up & Down.mp3 to WAV.\n",
            "Successfully converted Unlovable.mp3 to WAV.\n",
            "Successfully converted Undercover Martyn.mp3 to WAV.\n",
            "Successfully converted Those Eyes.mp3 to WAV.\n",
            "Successfully converted This Side of Paradise.mp3 to WAV.\n",
            "Successfully converted THE SHADE.mp3 to WAV.\n",
            "Successfully converted The Night We Met.mp3 to WAV.\n",
            "Successfully converted Tell Em.mp3 to WAV.\n",
            "Successfully converted telepatía.mp3 to WAV.\n",
            "Successfully converted Tek It.mp3 to WAV.\n",
            "Successfully converted You Get Me So High.mp3 to WAV.\n",
            "Successfully converted we fell in love in october.mp3 to WAV.\n",
            "Successfully converted Young.mp3 to WAV.\n",
            "Successfully converted Washing Machine Heart.mp3 to WAV.\n",
            "Successfully converted Youngblood.mp3 to WAV.\n"
          ]
        }
      ]
    },
    {
      "cell_type": "code",
      "source": [
        "import librosa\n",
        "import numpy as np\n",
        "import os\n",
        "\n",
        "=wav_directory = '/content/drive/MyDrive/[SPOTDOWNLOADER.COM] ML dataset'\n",
        "\n",
        "def extract_mfcc(file_path):\n",
        "    # Load the WAV file\n",
        "    y, sr = librosa.load(file_path)\n",
        "\n",
        "    mfcc = librosa.feature.mfcc(y=y, sr=sr, n_mfcc=13)\n",
        "\n",
        "    mfcc_mean = np.mean(mfcc, axis=1)\n",
        "\n",
        "    return mfcc_mean\n",
        "\n",
        "features = []\n",
        "file_names = []\n",
        "\n",
        "for file in os.listdir(wav_directory):\n",
        "    if file.endswith('.wav'):\n",
        "        file_path = os.path.join(wav_directory, file)\n",
        "        mfcc = extract_mfcc(file_path)\n",
        "        features.append(mfcc)\n",
        "        file_names.append(file)\n",
        "\n",
        "features = np.array(features)\n",
        "\n",
        "print(\"MFCC extraction complete!\")\n",
        "print(f\"Extracted features shape: {features.shape}\")\n",
        "\n"
      ],
      "metadata": {
        "colab": {
          "base_uri": "https://localhost:8080/"
        },
        "id": "BnvkVG7cOQ9Y",
        "outputId": "27b98d61-00a4-48ec-c39f-8a912cc99865"
      },
      "execution_count": null,
      "outputs": [
        {
          "output_type": "stream",
          "name": "stdout",
          "text": [
            "MFCC extraction complete!\n",
            "Extracted features shape: (88, 13)\n"
          ]
        }
      ]
    },
    {
      "cell_type": "code",
      "source": [
        "import os\n",
        "import librosa\n",
        "import numpy as np\n",
        "import pandas as pd\n",
        "from sklearn.model_selection import train_test_split\n",
        "\n",
        "song_names = [\n",
        "    'legroom', 'Cigarettes out the Window', 'Can I Call You Tonight', 'Better in the Dark', '505',\n",
        "    'BIRDS OF A FEATHER', 'Birds Dont Sing', 'Bad Habit', 'Babydoll', 'Attitude (I Want More)',\n",
        "    'A Little Death', 'Stress Relief', 'Something About You', 'SAY THAT YOU MISS ME', 'Not Allowed',\n",
        "    'Lovers Rock', 'Let It Happen', 'Doubt', 'Die Hard', 'Dark Red', 'Dangal', 'Cupid – Twin Ver. (feat. Sabrina Carpenter)',\n",
        "    'Cry Baby', 'Counting Stars', 'Cocaine Sunday', 'Circles', 'Chit Chat', 'Borderline', 'Cake By The Ocean',\n",
        "    'Chamber Of Reflection', 'Chand Sifarish', 'Freaks', 'Formula', 'Forever Young', 'fools (can\\'t help falling in love)',\n",
        "    'Escapism', 'Electric Love', 'Duvet', 'Honeypie', 'Honey', 'Havana (feat. Young Thug)', 'golden hour', 'Ghost',\n",
        "    'FΛSHION', 'From The Start', 'Kill Bill', 'Kamikaze', 'if u think i\\'m pretty', 'I Was Made For Lovin\\' You',\n",
        "    'I Wanna Be Yours', 'i like the way you kiss me', 'I Die Again', 'New Gold (feat. Tame Impala and Bootie Brown)',\n",
        "    'Muskaanein Jhooti Hai', 'Mona Lisa', 'Maniac', 'Lavender Sunflower', 'Knee Socks', 'scars', 'Riptide',\n",
        "    'Remember When', 'Raabta', 'Nico and the Niners', 'Next Exit', 'New Person, Same Old Mistakes', 'Take Me To The Sun',\n",
        "    'Swim', 'Sunsetz', 'Solo Mission', 'Shut up My Moms Calling', 'See you Soon', 'See You Again (feat. Kali Uchis)',\n",
        "    'Wait a Minute!', 'Up & Down', 'Unlovable', 'Undercover Martyn', 'Those Eyes', 'This Side of Paradise',\n",
        "    'THE SHADE', 'The Night We Met', 'Tell Em', 'telepatía', 'Tek It', 'You Get Me So High', 'we fell in love in october',\n",
        "    'Young', 'Washing Machine Heart', 'Youngblood'\n",
        "]\n",
        "\n",
        "features = []\n",
        "labels = []\n",
        "file_path = '/content/drive/MyDrive/[SPOTDOWNLOADER.COM] ML dataset'\n",
        "\n",
        "def extract_features(file_path):\n",
        "    y, sr = librosa.load(file_path, sr=None)\n",
        "\n",
        "    mfccs = librosa.feature.mfcc(y=y, sr=sr, n_mfcc=13)\n",
        "\n",
        "    # Take the mean of MFCCs across time frames\n",
        "    mfccs_mean = np.mean(mfccs.T, axis=0)\n",
        "\n",
        "    return mfccs_mean\n",
        "\n",
        "# Folder where the WAV files are located\n",
        "audio_folder = '/content/drive/MyDrive/[SPOTDOWNLOADER.COM] ML dataset'\n",
        "\n",
        "# Iterate through all the song names\n",
        "for song_name in song_names:\n",
        "    # Construct possible file path for the .wav file\n",
        "    wav_file_path = os.path.join(audio_folder, f'{song_name}.wav')\n",
        "\n",
        "    # Check if the .wav file exists\n",
        "    if os.path.exists(wav_file_path):\n",
        "        print(f\"Checking file: {wav_file_path}\")\n",
        "        # Extract features from the .wav file\n",
        "        features.append(extract_features(wav_file_path))\n",
        "        labels.append(song_name)\n",
        "\n",
        "features = np.array(features)\n",
        "labels = np.array(labels)\n",
        "\n",
        "if len(features) == 0:\n",
        "    print(\"No features extracted. Please check the file paths.\")\n",
        "else:\n",
        "    X_train, X_test, y_train, y_test = train_test_split(features, labels, test_size=0.2, random_state=42)\n",
        "\n",
        "    print(f\"Training data shape: {X_train.shape}\")\n",
        "    print(f\"Test data shape: {X_test.shape}\")\n",
        "\n",
        "    # Optional: Save the features and labels to CSV files for later use\n",
        "    train_data = pd.DataFrame(X_train)\n",
        "    train_data['label'] = y_train\n",
        "    train_data.to_csv('train_data.csv', index=False)\n",
        "\n",
        "    test_data = pd.DataFrame(X_test)\n",
        "    test_data['label'] = y_test\n",
        "    test_data.to_csv('test_data.csv', index=False)\n",
        "import warnings\n",
        "warnings.filterwarnings(\"ignore\", category=UserWarning, module=\"librosa\")\n",
        "\n"
      ],
      "metadata": {
        "colab": {
          "base_uri": "https://localhost:8080/"
        },
        "id": "al8grnwqQX_U",
        "outputId": "19420305-f50d-4f2d-9759-fb75d34ed3ff"
      },
      "execution_count": null,
      "outputs": [
        {
          "output_type": "stream",
          "name": "stdout",
          "text": [
            "Checking file: /content/drive/MyDrive/[SPOTDOWNLOADER.COM] ML dataset/legroom.wav\n",
            "Checking file: /content/drive/MyDrive/[SPOTDOWNLOADER.COM] ML dataset/Cigarettes out the Window.wav\n",
            "Checking file: /content/drive/MyDrive/[SPOTDOWNLOADER.COM] ML dataset/Better in the Dark.wav\n",
            "Checking file: /content/drive/MyDrive/[SPOTDOWNLOADER.COM] ML dataset/505.wav\n",
            "Checking file: /content/drive/MyDrive/[SPOTDOWNLOADER.COM] ML dataset/BIRDS OF A FEATHER.wav\n",
            "Checking file: /content/drive/MyDrive/[SPOTDOWNLOADER.COM] ML dataset/Birds Dont Sing.wav\n",
            "Checking file: /content/drive/MyDrive/[SPOTDOWNLOADER.COM] ML dataset/Bad Habit.wav\n",
            "Checking file: /content/drive/MyDrive/[SPOTDOWNLOADER.COM] ML dataset/Babydoll.wav\n",
            "Checking file: /content/drive/MyDrive/[SPOTDOWNLOADER.COM] ML dataset/Attitude (I Want More).wav\n",
            "Checking file: /content/drive/MyDrive/[SPOTDOWNLOADER.COM] ML dataset/A Little Death.wav\n",
            "Checking file: /content/drive/MyDrive/[SPOTDOWNLOADER.COM] ML dataset/Stress Relief.wav\n",
            "Checking file: /content/drive/MyDrive/[SPOTDOWNLOADER.COM] ML dataset/Something About You.wav\n",
            "Checking file: /content/drive/MyDrive/[SPOTDOWNLOADER.COM] ML dataset/Not Allowed.wav\n",
            "Checking file: /content/drive/MyDrive/[SPOTDOWNLOADER.COM] ML dataset/Lovers Rock.wav\n",
            "Checking file: /content/drive/MyDrive/[SPOTDOWNLOADER.COM] ML dataset/Let It Happen.wav\n",
            "Checking file: /content/drive/MyDrive/[SPOTDOWNLOADER.COM] ML dataset/Doubt.wav\n",
            "Checking file: /content/drive/MyDrive/[SPOTDOWNLOADER.COM] ML dataset/Die Hard.wav\n",
            "Checking file: /content/drive/MyDrive/[SPOTDOWNLOADER.COM] ML dataset/Dark Red.wav\n",
            "Checking file: /content/drive/MyDrive/[SPOTDOWNLOADER.COM] ML dataset/Dangal.wav\n",
            "Checking file: /content/drive/MyDrive/[SPOTDOWNLOADER.COM] ML dataset/Cupid – Twin Ver. (feat. Sabrina Carpenter).wav\n",
            "Checking file: /content/drive/MyDrive/[SPOTDOWNLOADER.COM] ML dataset/Cry Baby.wav\n",
            "Checking file: /content/drive/MyDrive/[SPOTDOWNLOADER.COM] ML dataset/Counting Stars.wav\n",
            "Checking file: /content/drive/MyDrive/[SPOTDOWNLOADER.COM] ML dataset/Cocaine Sunday.wav\n",
            "Checking file: /content/drive/MyDrive/[SPOTDOWNLOADER.COM] ML dataset/Circles.wav\n",
            "Checking file: /content/drive/MyDrive/[SPOTDOWNLOADER.COM] ML dataset/Chit Chat.wav\n",
            "Checking file: /content/drive/MyDrive/[SPOTDOWNLOADER.COM] ML dataset/Borderline.wav\n",
            "Checking file: /content/drive/MyDrive/[SPOTDOWNLOADER.COM] ML dataset/Cake By The Ocean.wav\n",
            "Checking file: /content/drive/MyDrive/[SPOTDOWNLOADER.COM] ML dataset/Chamber Of Reflection.wav\n",
            "Checking file: /content/drive/MyDrive/[SPOTDOWNLOADER.COM] ML dataset/Chand Sifarish.wav\n",
            "Checking file: /content/drive/MyDrive/[SPOTDOWNLOADER.COM] ML dataset/Freaks.wav\n",
            "Checking file: /content/drive/MyDrive/[SPOTDOWNLOADER.COM] ML dataset/Formula.wav\n",
            "Checking file: /content/drive/MyDrive/[SPOTDOWNLOADER.COM] ML dataset/Forever Young.wav\n",
            "Checking file: /content/drive/MyDrive/[SPOTDOWNLOADER.COM] ML dataset/Electric Love.wav\n",
            "Checking file: /content/drive/MyDrive/[SPOTDOWNLOADER.COM] ML dataset/Duvet.wav\n",
            "Checking file: /content/drive/MyDrive/[SPOTDOWNLOADER.COM] ML dataset/Honeypie.wav\n",
            "Checking file: /content/drive/MyDrive/[SPOTDOWNLOADER.COM] ML dataset/Honey.wav\n",
            "Checking file: /content/drive/MyDrive/[SPOTDOWNLOADER.COM] ML dataset/Havana (feat. Young Thug).wav\n",
            "Checking file: /content/drive/MyDrive/[SPOTDOWNLOADER.COM] ML dataset/golden hour.wav\n",
            "Checking file: /content/drive/MyDrive/[SPOTDOWNLOADER.COM] ML dataset/Ghost.wav\n",
            "Checking file: /content/drive/MyDrive/[SPOTDOWNLOADER.COM] ML dataset/FΛSHION.wav\n",
            "Checking file: /content/drive/MyDrive/[SPOTDOWNLOADER.COM] ML dataset/From The Start.wav\n",
            "Checking file: /content/drive/MyDrive/[SPOTDOWNLOADER.COM] ML dataset/Kill Bill.wav\n",
            "Checking file: /content/drive/MyDrive/[SPOTDOWNLOADER.COM] ML dataset/Kamikaze.wav\n",
            "Checking file: /content/drive/MyDrive/[SPOTDOWNLOADER.COM] ML dataset/if u think i'm pretty.wav\n",
            "Checking file: /content/drive/MyDrive/[SPOTDOWNLOADER.COM] ML dataset/I Was Made For Lovin' You.wav\n",
            "Checking file: /content/drive/MyDrive/[SPOTDOWNLOADER.COM] ML dataset/I Wanna Be Yours.wav\n",
            "Checking file: /content/drive/MyDrive/[SPOTDOWNLOADER.COM] ML dataset/i like the way you kiss me.wav\n",
            "Checking file: /content/drive/MyDrive/[SPOTDOWNLOADER.COM] ML dataset/I Die Again.wav\n",
            "Checking file: /content/drive/MyDrive/[SPOTDOWNLOADER.COM] ML dataset/New Gold (feat. Tame Impala and Bootie Brown).wav\n",
            "Checking file: /content/drive/MyDrive/[SPOTDOWNLOADER.COM] ML dataset/Muskaanein Jhooti Hai.wav\n",
            "Checking file: /content/drive/MyDrive/[SPOTDOWNLOADER.COM] ML dataset/Mona Lisa.wav\n",
            "Checking file: /content/drive/MyDrive/[SPOTDOWNLOADER.COM] ML dataset/Maniac.wav\n",
            "Checking file: /content/drive/MyDrive/[SPOTDOWNLOADER.COM] ML dataset/Lavender Sunflower.wav\n",
            "Checking file: /content/drive/MyDrive/[SPOTDOWNLOADER.COM] ML dataset/Knee Socks.wav\n",
            "Checking file: /content/drive/MyDrive/[SPOTDOWNLOADER.COM] ML dataset/scars.wav\n",
            "Checking file: /content/drive/MyDrive/[SPOTDOWNLOADER.COM] ML dataset/Riptide.wav\n",
            "Checking file: /content/drive/MyDrive/[SPOTDOWNLOADER.COM] ML dataset/Remember When.wav\n",
            "Checking file: /content/drive/MyDrive/[SPOTDOWNLOADER.COM] ML dataset/Raabta.wav\n",
            "Checking file: /content/drive/MyDrive/[SPOTDOWNLOADER.COM] ML dataset/Nico and the Niners.wav\n",
            "Checking file: /content/drive/MyDrive/[SPOTDOWNLOADER.COM] ML dataset/Next Exit.wav\n",
            "Checking file: /content/drive/MyDrive/[SPOTDOWNLOADER.COM] ML dataset/New Person, Same Old Mistakes.wav\n",
            "Checking file: /content/drive/MyDrive/[SPOTDOWNLOADER.COM] ML dataset/Take Me To The Sun.wav\n",
            "Checking file: /content/drive/MyDrive/[SPOTDOWNLOADER.COM] ML dataset/Swim.wav\n",
            "Checking file: /content/drive/MyDrive/[SPOTDOWNLOADER.COM] ML dataset/Sunsetz.wav\n",
            "Checking file: /content/drive/MyDrive/[SPOTDOWNLOADER.COM] ML dataset/Solo Mission.wav\n",
            "Checking file: /content/drive/MyDrive/[SPOTDOWNLOADER.COM] ML dataset/Shut up My Moms Calling.wav\n",
            "Checking file: /content/drive/MyDrive/[SPOTDOWNLOADER.COM] ML dataset/See you Soon.wav\n",
            "Checking file: /content/drive/MyDrive/[SPOTDOWNLOADER.COM] ML dataset/See You Again (feat. Kali Uchis).wav\n",
            "Checking file: /content/drive/MyDrive/[SPOTDOWNLOADER.COM] ML dataset/Wait a Minute!.wav\n",
            "Checking file: /content/drive/MyDrive/[SPOTDOWNLOADER.COM] ML dataset/Up & Down.wav\n",
            "Checking file: /content/drive/MyDrive/[SPOTDOWNLOADER.COM] ML dataset/Unlovable.wav\n",
            "Checking file: /content/drive/MyDrive/[SPOTDOWNLOADER.COM] ML dataset/Undercover Martyn.wav\n",
            "Checking file: /content/drive/MyDrive/[SPOTDOWNLOADER.COM] ML dataset/Those Eyes.wav\n",
            "Checking file: /content/drive/MyDrive/[SPOTDOWNLOADER.COM] ML dataset/This Side of Paradise.wav\n",
            "Checking file: /content/drive/MyDrive/[SPOTDOWNLOADER.COM] ML dataset/THE SHADE.wav\n",
            "Checking file: /content/drive/MyDrive/[SPOTDOWNLOADER.COM] ML dataset/The Night We Met.wav\n",
            "Checking file: /content/drive/MyDrive/[SPOTDOWNLOADER.COM] ML dataset/Tell Em.wav\n",
            "Checking file: /content/drive/MyDrive/[SPOTDOWNLOADER.COM] ML dataset/telepatía.wav\n",
            "Checking file: /content/drive/MyDrive/[SPOTDOWNLOADER.COM] ML dataset/Tek It.wav\n",
            "Checking file: /content/drive/MyDrive/[SPOTDOWNLOADER.COM] ML dataset/You Get Me So High.wav\n",
            "Checking file: /content/drive/MyDrive/[SPOTDOWNLOADER.COM] ML dataset/we fell in love in october.wav\n",
            "Checking file: /content/drive/MyDrive/[SPOTDOWNLOADER.COM] ML dataset/Young.wav\n",
            "Checking file: /content/drive/MyDrive/[SPOTDOWNLOADER.COM] ML dataset/Washing Machine Heart.wav\n",
            "Checking file: /content/drive/MyDrive/[SPOTDOWNLOADER.COM] ML dataset/Youngblood.wav\n",
            "Training data shape: (67, 13)\n",
            "Test data shape: (17, 13)\n"
          ]
        }
      ]
    },
    {
      "cell_type": "code",
      "source": [
        "import librosa\n",
        "import numpy as np\n",
        "import os\n",
        "import pandas as pd\n",
        "from sklearn.preprocessing import LabelEncoder\n",
        "\n",
        "# Directory containing the .wav files (make sure this path is correct)\n",
        "audio_dir = '/content/drive/MyDrive/[SPOTDOWNLOADER.COM] ML dataset'\n",
        "\n",
        "# List all .wav files in the directory\n",
        "file_names = [f for f in os.listdir(audio_dir) if f.endswith('.wav')]\n",
        "\n",
        "# Define a function to extract audio features\n",
        "def extract_features(file_path):\n",
        "    # Load the audio file\n",
        "    y, sr = librosa.load(file_path, sr=None)\n",
        "\n",
        "    # Extract features\n",
        "    mfcc = librosa.feature.mfcc(y=y, sr=sr, n_mfcc=13)\n",
        "    chroma = librosa.feature.chroma_stft(y=y, sr=sr)\n",
        "    spectral_contrast = librosa.feature.spectral_contrast(y=y, sr=sr)\n",
        "    zero_crossing_rate = librosa.feature.zero_crossing_rate(y=y)\n",
        "    tempo, _ = librosa.beat.beat_track(y=y, sr=sr)\n",
        "\n",
        "    # Aggregate features (mean and std dev of each feature)\n",
        "    mfcc_mean = np.mean(mfcc, axis=1)\n",
        "    chroma_mean = np.mean(chroma, axis=1)\n",
        "    spectral_contrast_mean = np.mean(spectral_contrast, axis=1)\n",
        "    zero_crossing_rate_mean = np.mean(zero_crossing_rate, axis=1)\n",
        "\n",
        "    # Combine features into a single vector\n",
        "    features = np.hstack([\n",
        "        mfcc_mean, chroma_mean, spectral_contrast_mean, zero_crossing_rate_mean, tempo\n",
        "    ])\n",
        "\n",
        "    return features\n",
        "\n",
        "# Initialize lists to store features and labels\n",
        "features_list = []\n",
        "labels_list = []\n",
        "\n",
        "# Loop through each file and extract features\n",
        "for file_name in file_names:\n",
        "    file_path = os.path.join(audio_dir, file_name)\n",
        "\n",
        "    # Extract features\n",
        "    features = extract_features(file_path)\n",
        "\n",
        "    # Append features and labels\n",
        "    features_list.append(features)\n",
        "    labels_list.append(file_name.split('.')[0])  # Use the file name (without extension) as the label\n",
        "\n",
        "# Convert lists to numpy arrays\n",
        "features_array = np.array(features_list)\n",
        "labels_array = np.array(labels_list)\n",
        "\n",
        "# Create a DataFrame\n",
        "df = pd.DataFrame(features_array)\n",
        "\n",
        "# Add the target label column\n",
        "df['Song'] = labels_array\n",
        "\n",
        "# Save to CSV file\n",
        "df.to_csv('audio_features.csv', index=False)\n",
        "\n",
        "print(\"Feature extraction complete. CSV file saved as 'audio_features.csv'.\")\n"
      ],
      "metadata": {
        "colab": {
          "base_uri": "https://localhost:8080/"
        },
        "id": "9dKy7mU7VT07",
        "outputId": "fb01b66f-4287-418a-9a70-4d2cdd31c55d"
      },
      "execution_count": null,
      "outputs": [
        {
          "output_type": "stream",
          "name": "stdout",
          "text": [
            "Feature extraction complete. CSV file saved as 'audio_features.csv'.\n"
          ]
        }
      ]
    },
    {
      "cell_type": "code",
      "source": [
        "import pandas as pd\n",
        "from sklearn.model_selection import train_test_split\n",
        "from sklearn.ensemble import RandomForestClassifier\n",
        "from sklearn.metrics import classification_report, accuracy_score\n",
        "from sklearn.feature_selection import SelectKBest, f_classif\n",
        "\n",
        "# Load the dataset\n",
        "df = pd.read_csv('/content/audio_features.csv')\n",
        "\n",
        "# Separate features (X) and labels (y)\n",
        "X = df.drop(columns=['Song'])  # Features (drop the 'Song' column)\n",
        "y = df['Song']  # Labels (the song names)\n",
        "\n",
        "# Handle missing values if necessary\n",
        "X = X.fillna(X.mean())  # Replace missing values with column mean (if any)\n",
        "\n",
        "# Feature selection using SelectKBest\n",
        "selector = SelectKBest(f_classif, k=10)  # Select the top 10 features\n",
        "X_selected = selector.fit_transform(X, y)\n",
        "\n",
        "# Split the data into training and test sets\n",
        "X_train, X_test, y_train, y_test = train_test_split(X_selected, y, test_size=0.2, random_state=42)\n",
        "\n",
        "# Check the class distribution before filtering\n",
        "print(\"Class distribution in training set:\")\n",
        "print(y_train.value_counts())\n",
        "\n",
        "# Remove classes with fewer than 2 samples\n",
        "threshold = 2\n",
        "class_counts = y_train.value_counts()\n",
        "small_classes = class_counts[class_counts < threshold].index\n",
        "y_train_filtered = y_train[~y_train.isin(small_classes)]\n",
        "X_train_filtered = X_train[~y_train.isin(small_classes)]\n",
        "\n",
        "# Check the new class distribution after filtering\n",
        "print(\"\\nClass distribution after removing small classes:\")\n",
        "print(y_train_filtered.value_counts())\n",
        "\n",
        "# If after filtering, the training data is empty, exit the process\n",
        "if X_train_filtered.shape[0] == 0:\n",
        "    print(\"No data remaining after filtering small classes. Adjust the threshold or reconsider merging.\")\n",
        "else:\n",
        "    # Create the Random Forest model\n",
        "    rf_model = RandomForestClassifier(n_estimators=100, random_state=42, class_weight='balanced')\n",
        "\n",
        "    # Train the model with the filtered data\n",
        "    rf_model.fit(X_train_filtered, y_train_filtered)\n",
        "\n",
        "    # Evaluate the model on the test set\n",
        "    y_pred = rf_model.predict(X_test)\n",
        "    print(f\"\\nAccuracy on test data: {accuracy_score(y_test, y_pred):.4f}\")\n",
        "\n",
        "    # Print the classification report\n",
        "    print(\"\\nClassification Report:\")\n",
        "    print(classification_report(y_test, y_pred))\n",
        "\n",
        "    # Print feature importances\n",
        "    print(\"\\nFeature Importances:\")\n",
        "    for idx, importance in enumerate(rf_model.feature_importances_):\n",
        "        print(f\"Feature {idx}: {importance:.4f}\")\n",
        "\n"
      ],
      "metadata": {
        "colab": {
          "base_uri": "https://localhost:8080/"
        },
        "id": "0QageOIOUVCm",
        "outputId": "635dbbec-9693-4393-d6f5-aa15592574cd"
      },
      "execution_count": null,
      "outputs": [
        {
          "output_type": "stream",
          "name": "stdout",
          "text": [
            "Class distribution in training set:\n",
            "Song\n",
            "Maniac                     1\n",
            "golden hour                1\n",
            "Formula                    1\n",
            "Knee Socks                 1\n",
            "This Side of Paradise      1\n",
            "                          ..\n",
            "Babydoll                   1\n",
            "Shut up My Moms Calling    1\n",
            "Birds Dont Sing            1\n",
            "Lavender Sunflower         1\n",
            "I Die Again                1\n",
            "Name: count, Length: 70, dtype: int64\n",
            "\n",
            "Class distribution after removing small classes:\n",
            "Series([], Name: count, dtype: int64)\n",
            "No data remaining after filtering small classes. Adjust the threshold or reconsider merging.\n"
          ]
        },
        {
          "output_type": "stream",
          "name": "stderr",
          "text": [
            "/usr/local/lib/python3.10/dist-packages/sklearn/feature_selection/_univariate_selection.py:109: RuntimeWarning: invalid value encountered in divide\n",
            "  msw = sswn / float(dfwn)\n"
          ]
        }
      ]
    },
    {
      "cell_type": "code",
      "source": [
        "# List of available files in the directory\n",
        "import os\n",
        "\n",
        "directory = \"/content/drive/MyDrive/[SPOTDOWNLOADER.COM] ML dataset (wav files)\"\n",
        "available_files = os.listdir(directory)\n",
        "\n",
        "# Normalize the available files in the same way\n",
        "available_files_clean = [clean_filename(f) for f in available_files]\n",
        "\n",
        "print(\"Available files:\", available_files_clean)\n"
      ],
      "metadata": {
        "colab": {
          "base_uri": "https://localhost:8080/"
        },
        "id": "YYeZhpkJdeNu",
        "outputId": "8a7593c1-d761-4f87-d3fc-145e2c12edee"
      },
      "execution_count": null,
      "outputs": [
        {
          "output_type": "stream",
          "name": "stdout",
          "text": [
            "Available files: ['505wav', 'legroomwav', 'cigarettesoutthewindowwav', 'canicallyoutonight_wav', 'betterinthedarkwav', 'birdsofafeatherwav', 'birdsdontsingwav', 'badhabitwav', 'babydollwav', 'attitudeiwantmorewav', 'alittledeathwav', 'stressreliefwav', 'somethingaboutyouwav', 'saythatyoumissme3wav', 'notallowedwav', 'loversrockwav', 'letithappenwav', 'doubtwav', 'diehardwav', 'darkredwav', 'dangalwav', 'cupidtwinverfeatsabrinacarpenterwav', 'crybabywav', 'countingstarswav', 'cocainesundaywav', 'circleswav', 'chitchatwav', 'borderlinewav', 'cakebytheoceanwav', 'chamberofreflectionwav', 'chandsifarishwav', 'freakswav', 'formulawav', 'foreveryoungwav', 'foolscanthelpfallinginlovefeatsodywav', 'escapismwav', 'electriclovewav', 'duvetwav', 'honeypiewav', 'honeywav', 'havanafeatyoungthugwav', 'goldenhourwav', 'ghostwav', 'fλshionwav', 'fromthestartwav', 'killbillwav', 'kamikazewav', 'ifuthinkimprettywav', 'iwasmadeforlovinyouwav', 'iwannabeyourswav', 'ilikethewayyoukissmewav', 'idieagainwav', 'newgoldfeattameimpalaandbootiebrownwav', 'muskaaneinjhootihaiwav', 'monalisawav', 'maniacwav', 'lavendersunflowerwav', 'kneesockswav', 'scarswav', 'riptidewav', 'rememberwhenwav', 'raabtawav', 'nicoandtheninerswav', 'nextexitwav', 'newpersonsameoldmistakeswav', 'takemetothesunwav', 'swimwav', 'sunsetzwav', 'solomissionwav', 'shutupmymomscallingwav', 'seeyousoonwav', 'seeyouagainfeatkaliuchiswav', 'waitaminutewav', 'updownwav', 'unlovablewav', 'undercovermartynwav', 'thoseeyeswav', 'thissideofparadisewav', 'theshadewav', 'thenightwemetwav', 'tellemwav', 'telepatiawav', 'tekitwav', 'yougetmesohighwav', 'wefellinloveinoctoberwav', 'youngwav', 'washingmachineheartwav', 'youngbloodwav']\n"
          ]
        }
      ]
    },
    {
      "cell_type": "code",
      "source": [
        "import re\n",
        "\n",
        "# Function to clean and normalize filenames\n",
        "def clean_filename(filename):\n",
        "    # Remove common special characters and spaces, and convert to lowercase\n",
        "    filename = filename.lower()  # Make the filename lowercase\n",
        "    filename = re.sub(r'[^\\w\\s]', '', filename)  # Remove non-alphanumeric characters (except spaces)\n",
        "    filename = filename.replace(' ', '')  # Remove spaces\n",
        "    return filename\n",
        "\n",
        "# Apply cleaning function to your song names\n",
        "cleaned_song_names = [clean_filename(name) for name in song_names]\n",
        "\n",
        "# Check if the cleaned filenames match the available files\n",
        "missing_files = []\n",
        "for cleaned_name in cleaned_song_names:\n",
        "    if f\"{cleaned_name}.wav\" not in available_files:\n",
        "        missing_files.append(cleaned_name)\n",
        "\n",
        "if missing_files:\n",
        "    print(f\"Missing files: {missing_files}\")\n",
        "else:\n",
        "    print(\"All files are available.\")\n",
        "\n"
      ],
      "metadata": {
        "colab": {
          "base_uri": "https://localhost:8080/"
        },
        "id": "nVULeMrScbyc",
        "outputId": "166128b1-3574-4a6c-fe87-e58db8da6e89"
      },
      "execution_count": null,
      "outputs": [
        {
          "output_type": "stream",
          "name": "stdout",
          "text": [
            "Missing files: ['cigarettesoutthewindow', 'canicallyoutonight_', 'betterinthedark', 'birdsofafeather', 'birdsdontsing', 'badhabit', 'babydoll', 'attitudeiwantmore', 'alittledeath', 'stressrelief', 'somethingaboutyou', 'saythatyoumissme3', 'notallowed', 'loversrock', 'letithappen', 'doubt', 'diehard', 'darkred', 'dangal', 'cupidtwinver', 'crybaby', 'countingstars', 'cocainesunday', 'circles', 'chitchat', 'borderline', 'cakebytheocean', 'chamberofreflection', 'chandsifarish', 'freaks', 'formula', 'foreveryoung', 'foolscanthelpfallinginlovefeat', 'escapism', 'electriclove', 'duvet', 'honeypie', 'honey', 'havanafeat', 'goldenhour', 'ghost', 'fλshion', 'fromthestart', 'killbill', 'kamikaze', 'ifuthinkimpretty', 'iwasmadeforlovinyou', 'iwannabeyours', 'ilikethewayyoukissme', 'idieagain', 'newgoldfeat', 'muskaaneinjhootihai', 'monalisa', 'maniac', 'lavendersunflower', 'kneesocks', 'riptide', 'rememberwhen', 'raabta', 'nicoandtheniners', 'nextexit', 'newpersonsameoldmistakes', 'takemetothesun', 'swim', 'sunsetz', 'solomission', 'shutupmymomscalling', 'seeyousoon', 'seeyouagainfeat', 'waitaminute', 'updown', 'unlovable', 'undercovermartyn', 'thoseeyes', 'thissideofparadise', 'theshade', 'thenightwemet', 'tellem', 'telepatia', 'tekit', 'yougetmesohigh', 'wefellinloveinoctober', 'young', 'washingmachineheart', 'youngblood']\n"
          ]
        }
      ]
    },
    {
      "cell_type": "code",
      "source": [
        "import os\n",
        "import re\n",
        "\n",
        "# Define the directory path where the files are stored\n",
        "directory = '/content/drive/MyDrive/[SPOTDOWNLOADER.COM] ML dataset (wav files)'\n",
        "\n",
        "# List all files in the directory\n",
        "available_files = os.listdir(directory)\n",
        "\n",
        "# Function to normalize filenames (lowercase, remove special characters, spaces)\n",
        "def normalize_filename(filename):\n",
        "    # Convert to lowercase and remove special characters (retain alphanumeric and underscore)\n",
        "    return re.sub(r'[^a-z0-9_]', '', filename.lower())\n",
        "\n",
        "# Normalize the list of available files\n",
        "normalized_available_files = [normalize_filename(f) for f in available_files]\n",
        "\n",
        "# Define the list of expected file names (you can update this list based on your project)\n",
        "expected_files = ['cigarettesoutthewindow', 'canicallyoutonight', 'betterinthedark', 'birdsofafeather', 'birdsdontsing',\n",
        "                   'badhabit', 'attitudeiwantmore', 'alittledeath', 'stressrelief', 'somethingaboutyou', 'saythatyoumissme3',\n",
        "                   'notallowed', 'loversrock', 'letithappen', 'diehard', 'darkred', 'cupidtwinver', 'crybaby', 'countingstars',\n",
        "                   'cocainesunday', 'chitchat', 'cakebytheocean', 'chamberofreflection', 'chandsifarish', 'foreveryoung',\n",
        "                   'foolscanthelpfallinginlovefeat', 'escapism', 'electriclove', 'havanafeat', 'goldenhour', 'fromthestart',\n",
        "                   'killbill', 'ifuthinkimpretty', 'iwasmadeforlovinyou', 'iwannabeyours', 'ilikethewayyoukissme', 'idieagain',\n",
        "                   'newgoldfeat', 'muskaaneinjhootihai', 'monalisa', 'lavendersunflower', 'kneesocks', 'rememberwhen',\n",
        "                   'nicoandtheniners', 'nextexit', 'newpersonsameoldmistakes', 'takemetothesun', 'solomission', 'shutupmymomscalling',\n",
        "                   'seeyousoon', 'seeyouagainfeat', 'waitaminute', 'updown', 'undercovermartyn', 'thoseeyes', 'thissideofparadise',\n",
        "                   'theshade', 'thenightwemet', 'tellem', 'telepatia', 'tekit', 'yougetmesohigh', 'wefellinloveinoctober', 'washingmachineheart']\n",
        "\n",
        "# Normalize the expected filenames\n",
        "normalized_expected_files = [normalize_filename(f) for f in expected_files]\n",
        "\n",
        "# Compare and check for missing files\n",
        "missing_files = [expected for expected in normalized_expected_files if expected not in normalized_available_files]\n",
        "\n",
        "# Output missing files\n",
        "print(\"Missing files:\", missing_files)\n",
        "\n"
      ],
      "metadata": {
        "colab": {
          "base_uri": "https://localhost:8080/"
        },
        "id": "Lc56EuYxdq2r",
        "outputId": "792b036e-16c4-4f41-e4cc-1c373b13d843"
      },
      "execution_count": null,
      "outputs": [
        {
          "output_type": "stream",
          "name": "stdout",
          "text": [
            "Missing files: ['cigarettesoutthewindow', 'canicallyoutonight', 'betterinthedark', 'birdsofafeather', 'birdsdontsing', 'badhabit', 'attitudeiwantmore', 'alittledeath', 'stressrelief', 'somethingaboutyou', 'saythatyoumissme3', 'notallowed', 'loversrock', 'letithappen', 'diehard', 'darkred', 'cupidtwinver', 'crybaby', 'countingstars', 'cocainesunday', 'chitchat', 'cakebytheocean', 'chamberofreflection', 'chandsifarish', 'foreveryoung', 'foolscanthelpfallinginlovefeat', 'escapism', 'electriclove', 'havanafeat', 'goldenhour', 'fromthestart', 'killbill', 'ifuthinkimpretty', 'iwasmadeforlovinyou', 'iwannabeyours', 'ilikethewayyoukissme', 'idieagain', 'newgoldfeat', 'muskaaneinjhootihai', 'monalisa', 'lavendersunflower', 'kneesocks', 'rememberwhen', 'nicoandtheniners', 'nextexit', 'newpersonsameoldmistakes', 'takemetothesun', 'solomission', 'shutupmymomscalling', 'seeyousoon', 'seeyouagainfeat', 'waitaminute', 'updown', 'undercovermartyn', 'thoseeyes', 'thissideofparadise', 'theshade', 'thenightwemet', 'tellem', 'telepatia', 'tekit', 'yougetmesohigh', 'wefellinloveinoctober', 'washingmachineheart']\n"
          ]
        }
      ]
    },
    {
      "cell_type": "code",
      "source": [
        "import os\n",
        "from fuzzywuzzy import fuzz\n",
        "from fuzzywuzzy import process\n",
        "\n",
        "# List of available files (normalized)\n",
        "available_files = [\n",
        "    '505', 'legroom', 'cigarettesoutthewindow', 'canicallyoutonight', 'betterinthedark',\n",
        "    'birdsofafeather', 'birdsdontsing', 'badhabit', 'babydoll', 'attitudeiwantmore',\n",
        "    'alittledeath', 'stressrelief', 'somethingaboutyou', 'saythatyoumissme3', 'notallowed',\n",
        "    'loversrock', 'letithappen', 'doubt', 'diehard', 'darkred', 'dangal', 'cupidtwinverfeatsabrinacarpenter',\n",
        "    'crybaby', 'countingstars', 'cocainesunday', 'circles', 'chitchat', 'borderline', 'cakebytheocean',\n",
        "    'chamberofreflection', 'chandsifarish', 'freaks', 'formula', 'foreveryoung', 'foolscanthelpfallinginlovefeatsody',\n",
        "    'escapism', 'electriclove', 'duvet', 'honeypie', 'honey', 'havanafeatyoungthug', 'goldenhour',\n",
        "    'ghost', 'fshion', 'fromthestart', 'killbill', 'kamikaze', 'ifuthinkimpretty', 'iwasmadeforlovinyou',\n",
        "    'iwannabeyours', 'ilikethewayyoukissme', 'idieagain', 'newgoldfeattameimpalaandbootiebrown', 'muskaaneinjhootihai',\n",
        "    'monalisa', 'maniac', 'lavendersunflower', 'kneesocks', 'scars', 'riptide', 'rememberwhen', 'raabta',\n",
        "    'nicoandtheniners', 'nextexit', 'newpersonsameoldmistakes', 'takemetothesun', 'swim', 'sunsetz',\n",
        "    'solomission', 'shutupmymomscalling', 'seeyousoon', 'seeyouagainfeatkaliuchis', 'waitaminute!',\n",
        "    'up&down', 'unlovable', 'undercovermartyn', 'thoseeyes', 'thissideofparadise', 'theshade', 'thenightwemet',\n",
        "    'tellem', 'telepatia', 'tekit', 'yougetmesohigh', 'wefellinloveinoctober', 'young', 'washingmachineheart',\n",
        "    'youngblood'\n",
        "]\n",
        "\n",
        "# List of missing files\n",
        "missing_files = [\n",
        "    '505', 'legroom', 'babydoll', 'doubt', 'dangal', 'circles', 'borderline', 'freaks', 'formula',\n",
        "    'duvet', 'honeypie', 'honey', 'ghost', 'fshion', 'kamikaze', 'maniac', 'riptide', 'raabta', 'swim',\n",
        "    'sunsetz', 'unlovable', 'youngblood'\n",
        "]\n",
        "\n",
        "# Function to clean filenames by removing spaces and special characters, and converting to lowercase\n",
        "def clean_filename(filename):\n",
        "    return ''.join(e for e in filename.lower() if e.isalnum())\n",
        "\n",
        "# Clean all available and missing filenames\n",
        "available_files_cleaned = [clean_filename(file) for file in available_files]\n",
        "missing_files_cleaned = [clean_filename(file) for file in missing_files]\n",
        "\n",
        "# Fuzzy matching to find the best matches for missing files\n",
        "matched_files = {}\n",
        "for missing_file in missing_files_cleaned:\n",
        "    best_match, score = process.extractOne(missing_file, available_files_cleaned, scorer=fuzz.ratio)\n",
        "    if score > 80:  # Threshold for good match\n",
        "        matched_files[missing_file] = available_files[available_files_cleaned.index(best_match)]\n",
        "\n",
        "# Display the matched files\n",
        "for missing_file, match in matched_files.items():\n",
        "    print(f\"Matched '{missing_file}' to '{match}'\")\n",
        "\n"
      ],
      "metadata": {
        "colab": {
          "base_uri": "https://localhost:8080/"
        },
        "id": "5lqMAeP8eeNY",
        "outputId": "f82b3db0-d3ac-4cb5-db5b-784877e5e0b2"
      },
      "execution_count": null,
      "outputs": [
        {
          "output_type": "stream",
          "name": "stdout",
          "text": [
            "Matched '505' to '505'\n",
            "Matched 'legroom' to 'legroom'\n",
            "Matched 'babydoll' to 'babydoll'\n",
            "Matched 'doubt' to 'doubt'\n",
            "Matched 'dangal' to 'dangal'\n",
            "Matched 'circles' to 'circles'\n",
            "Matched 'borderline' to 'borderline'\n",
            "Matched 'freaks' to 'freaks'\n",
            "Matched 'formula' to 'formula'\n",
            "Matched 'duvet' to 'duvet'\n",
            "Matched 'honeypie' to 'honeypie'\n",
            "Matched 'honey' to 'honey'\n",
            "Matched 'ghost' to 'ghost'\n",
            "Matched 'fshion' to 'fshion'\n",
            "Matched 'kamikaze' to 'kamikaze'\n",
            "Matched 'maniac' to 'maniac'\n",
            "Matched 'riptide' to 'riptide'\n",
            "Matched 'raabta' to 'raabta'\n",
            "Matched 'swim' to 'swim'\n",
            "Matched 'sunsetz' to 'sunsetz'\n",
            "Matched 'unlovable' to 'unlovable'\n",
            "Matched 'youngblood' to 'youngblood'\n"
          ]
        }
      ]
    },
    {
      "cell_type": "code",
      "source": [
        "# Check the matched files and the remaining missing files for further inspection\n",
        "print(\"Available files (normalized):\")\n",
        "for file in available_files:\n",
        "    print(normalize_string(file.replace(\".wav\", \"\")))\n",
        "\n",
        "# Print missing files\n",
        "print(\"Missing files:\", missing_files)\n"
      ],
      "metadata": {
        "colab": {
          "base_uri": "https://localhost:8080/"
        },
        "id": "5sEvTKZ7eJw0",
        "outputId": "d8a5a263-acc0-498d-beda-e2c7bf9e9c2b"
      },
      "execution_count": null,
      "outputs": [
        {
          "output_type": "stream",
          "name": "stdout",
          "text": [
            "Available files (normalized):\n",
            "505\n",
            "legroom\n",
            "cigarettesoutthewindow\n",
            "canicallyoutonight\n",
            "betterinthedark\n",
            "birdsofafeather\n",
            "birdsdontsing\n",
            "badhabit\n",
            "babydoll\n",
            "attitudeiwantmore\n",
            "alittledeath\n",
            "stressrelief\n",
            "somethingaboutyou\n",
            "saythatyoumissme3\n",
            "notallowed\n",
            "loversrock\n",
            "letithappen\n",
            "doubt\n",
            "diehard\n",
            "darkred\n",
            "dangal\n",
            "cupidtwinverfeatsabrinacarpenter\n",
            "crybaby\n",
            "countingstars\n",
            "cocainesunday\n",
            "circles\n",
            "chitchat\n",
            "borderline\n",
            "cakebytheocean\n",
            "chamberofreflection\n",
            "chandsifarish\n",
            "freaks\n",
            "formula\n",
            "foreveryoung\n",
            "foolscanthelpfallinginlovefeatsody\n",
            "escapism\n",
            "electriclove\n",
            "duvet\n",
            "honeypie\n",
            "honey\n",
            "havanafeatyoungthug\n",
            "goldenhour\n",
            "ghost\n",
            "fshion\n",
            "fromthestart\n",
            "killbill\n",
            "kamikaze\n",
            "ifuthinkimpretty\n",
            "iwasmadeforlovinyou\n",
            "iwannabeyours\n",
            "ilikethewayyoukissme\n",
            "idieagain\n",
            "newgoldfeattameimpalaandbootiebrown\n",
            "muskaaneinjhootihai\n",
            "monalisa\n",
            "maniac\n",
            "lavendersunflower\n",
            "kneesocks\n",
            "scars\n",
            "riptide\n",
            "rememberwhen\n",
            "raabta\n",
            "nicoandtheniners\n",
            "nextexit\n",
            "newpersonsameoldmistakes\n",
            "takemetothesun\n",
            "swim\n",
            "sunsetz\n",
            "solomission\n",
            "shutupmymomscalling\n",
            "seeyousoon\n",
            "seeyouagainfeatkaliuchis\n",
            "waitaminute!\n",
            "up&down\n",
            "unlovable\n",
            "undercovermartyn\n",
            "thoseeyes\n",
            "thissideofparadise\n",
            "theshade\n",
            "thenightwemet\n",
            "tellem\n",
            "telepatia\n",
            "tekit\n",
            "yougetmesohigh\n",
            "wefellinloveinoctober\n",
            "young\n",
            "washingmachineheart\n",
            "youngblood\n",
            "Missing files: ['505', 'legroom', 'babydoll', 'doubt', 'dangal', 'circles', 'borderline', 'freaks', 'formula', 'duvet', 'honeypie', 'honey', 'ghost', 'fshion', 'kamikaze', 'maniac', 'riptide', 'raabta', 'swim', 'sunsetz', 'unlovable', 'youngblood']\n"
          ]
        }
      ]
    },
    {
      "cell_type": "code",
      "source": [
        "import os\n",
        "import numpy as np\n",
        "import pandas as pd\n",
        "import librosa\n",
        "from sklearn.linear_model import LogisticRegression\n",
        "from sklearn.metrics import classification_report, accuracy_score\n",
        "from sklearn.model_selection import train_test_split\n",
        "from sklearn.utils.class_weight import compute_class_weight\n",
        "from sklearn.preprocessing import LabelEncoder\n",
        "\n",
        "# Function to extract MFCC features from audio\n",
        "def extract_mfcc(audio_path, n_mfcc=13):\n",
        "    y, sr = librosa.load(audio_path, sr=None)  # Load audio file\n",
        "    mfcc = librosa.feature.mfcc(y=y, sr=sr, n_mfcc=n_mfcc)  # Extract MFCC features\n",
        "    return np.mean(mfcc.T, axis=0)  # Take the mean of each coefficient across time frames\n",
        "\n",
        "# Path to your audio files and CSV (adjust accordingly)\n",
        "audio_dir = \"/content/drive/MyDrive/[SPOTDOWNLOADER.COM] ML dataset (wav files)\"\n",
        "csv_file = \"/content/audio_features.csv\"\n",
        "\n",
        "# Load the CSV to get song labels (assuming it contains 'Song' and features)\n",
        "df = pd.read_csv(csv_file)\n",
        "print(df.head())  # Check the first few rows to understand its structure\n",
        "\n",
        "# Extract the relevant columns ('Song' and the features)\n",
        "file_names = df['Song'].values\n",
        "labels = df['Song'].values  # Adjust this if the labels are stored in a different column\n",
        "\n",
        "# Initialize lists to store features and labels\n",
        "X = []\n",
        "y = []\n",
        "\n",
        "# Loop through all the audio files and extract features\n",
        "for file_name, label in zip(file_names, labels):\n",
        "    audio_path = os.path.join(audio_dir, f\"{file_name}.wav\")  # Adjust if the file extension is different\n",
        "\n",
        "    if os.path.exists(audio_path):  # Ensure the audio file exists\n",
        "        mfcc_features = extract_mfcc(audio_path)\n",
        "        X.append(mfcc_features)\n",
        "        y.append(label)\n",
        "\n",
        "# Convert lists to numpy arrays\n",
        "X = np.array(X)\n",
        "y = np.array(y)\n",
        "\n",
        "# Encode labels to numeric format\n",
        "label_encoder = LabelEncoder()\n",
        "y_encoded = label_encoder.fit_transform(y)\n",
        "\n",
        "# Split the dataset into training and testing sets\n",
        "X_train, X_test, y_train, y_test = train_test_split(X, y_encoded, test_size=0.2, random_state=42)\n",
        "\n",
        "# Compute class weights for imbalanced dataset\n",
        "class_weights = compute_class_weight('balanced', classes=np.unique(y_train), y=y_train)\n",
        "class_weight_dict = {i: class_weights[i] for i in range(len(class_weights))}\n",
        "\n",
        "# Initialize Logistic Regression with class weights\n",
        "lr_model = LogisticRegression(class_weight=class_weight_dict, max_iter=1000)\n",
        "\n",
        "# Train the model\n",
        "lr_model.fit(X_train, y_train)\n",
        "\n",
        "# Predict on the test set\n",
        "y_pred = lr_model.predict(X_test)\n",
        "\n",
        "# Evaluate model performance\n",
        "accuracy = accuracy_score(y_test, y_pred)\n",
        "print(f\"Accuracy on test data: {accuracy:.4f}\")\n",
        "\n",
        "# Print Classification Report\n",
        "print(\"Classification Report:\")\n",
        "print(classification_report(y_test, y_pred, target_names=label_encoder.classes_))\n",
        "\n",
        "# Optionally, you can save the model for later use\n",
        "# import joblib\n",
        "# joblib.dump(lr_model, 'music_classifier_model.pkl')\n"
      ],
      "metadata": {
        "colab": {
          "base_uri": "https://localhost:8080/",
          "height": 896
        },
        "id": "l0sx1XkZaJfJ",
        "outputId": "8dd92c67-6db8-43f8-971b-04b0e7f4c447"
      },
      "execution_count": null,
      "outputs": [
        {
          "output_type": "stream",
          "name": "stdout",
          "text": [
            "            0           1          2          3          4          5  \\\n",
            "0 -140.319397  155.690521 -32.171181  49.277203   3.821593  27.456575   \n",
            "1 -109.165710  137.357758 -28.552031  41.843899 -11.153097  25.384790   \n",
            "2 -106.008072  149.443451 -24.453096  49.570755  -5.498357  29.685480   \n",
            "3 -176.980286  187.858643 -44.666252  13.091423  -8.828910  -3.139091   \n",
            "4 -155.269608  170.284393 -42.572781  45.222347   5.201830   2.302109   \n",
            "\n",
            "           6          7          8         9  ...         25         26  \\\n",
            "0  -2.058012   2.891968  -6.056408 -2.239663  ...  16.083554   9.813971   \n",
            "1 -16.835865  14.858809  -7.843626  1.429758  ...  17.184597  11.959076   \n",
            "2 -11.583030  13.925456 -11.359816  6.804298  ...  11.445316  13.216856   \n",
            "3   3.049433  -7.699238   6.000019 -1.629792  ...  13.957806  10.521952   \n",
            "4  -2.138118   3.051679  -2.109806  0.276794  ...  18.522455  10.456474   \n",
            "\n",
            "          27         28         29         30         31        32  \\\n",
            "0  16.871535  16.564917  18.707166  17.718883  40.727224  0.051832   \n",
            "1  15.195083  16.088902  17.978338  19.038380  44.734362  0.077003   \n",
            "2  16.444621  16.640104  17.750242  17.494710  43.072193  0.059256   \n",
            "3  12.992067  16.799360  19.917929  19.229106  43.496217  0.045671   \n",
            "4  13.262752  15.346330  16.768157  17.890816  43.686871  0.045862   \n",
            "\n",
            "           33                       Song  \n",
            "0  140.625000                        505  \n",
            "1  106.132075                    legroom  \n",
            "2  112.500000  Cigarettes out the Window  \n",
            "3  130.813953    Can I Call You Tonight_  \n",
            "4   90.725806         Better in the Dark  \n",
            "\n",
            "[5 rows x 35 columns]\n"
          ]
        },
        {
          "output_type": "error",
          "ename": "ValueError",
          "evalue": "The classes, [65, 66, 69, 70, 71, 72, 73, 74, 75, 76, 77, 78, 81], are not in class_weight",
          "traceback": [
            "\u001b[0;31m---------------------------------------------------------------------------\u001b[0m",
            "\u001b[0;31mValueError\u001b[0m                                Traceback (most recent call last)",
            "\u001b[0;32m<ipython-input-102-7858f0185483>\u001b[0m in \u001b[0;36m<cell line: 61>\u001b[0;34m()\u001b[0m\n\u001b[1;32m     59\u001b[0m \u001b[0;34m\u001b[0m\u001b[0m\n\u001b[1;32m     60\u001b[0m \u001b[0;31m# Train the model\u001b[0m\u001b[0;34m\u001b[0m\u001b[0;34m\u001b[0m\u001b[0m\n\u001b[0;32m---> 61\u001b[0;31m \u001b[0mlr_model\u001b[0m\u001b[0;34m.\u001b[0m\u001b[0mfit\u001b[0m\u001b[0;34m(\u001b[0m\u001b[0mX_train\u001b[0m\u001b[0;34m,\u001b[0m \u001b[0my_train\u001b[0m\u001b[0;34m)\u001b[0m\u001b[0;34m\u001b[0m\u001b[0;34m\u001b[0m\u001b[0m\n\u001b[0m\u001b[1;32m     62\u001b[0m \u001b[0;34m\u001b[0m\u001b[0m\n\u001b[1;32m     63\u001b[0m \u001b[0;31m# Predict on the test set\u001b[0m\u001b[0;34m\u001b[0m\u001b[0;34m\u001b[0m\u001b[0m\n",
            "\u001b[0;32m/usr/local/lib/python3.10/dist-packages/sklearn/base.py\u001b[0m in \u001b[0;36mwrapper\u001b[0;34m(estimator, *args, **kwargs)\u001b[0m\n\u001b[1;32m   1471\u001b[0m                 )\n\u001b[1;32m   1472\u001b[0m             ):\n\u001b[0;32m-> 1473\u001b[0;31m                 \u001b[0;32mreturn\u001b[0m \u001b[0mfit_method\u001b[0m\u001b[0;34m(\u001b[0m\u001b[0mestimator\u001b[0m\u001b[0;34m,\u001b[0m \u001b[0;34m*\u001b[0m\u001b[0margs\u001b[0m\u001b[0;34m,\u001b[0m \u001b[0;34m**\u001b[0m\u001b[0mkwargs\u001b[0m\u001b[0;34m)\u001b[0m\u001b[0;34m\u001b[0m\u001b[0;34m\u001b[0m\u001b[0m\n\u001b[0m\u001b[1;32m   1474\u001b[0m \u001b[0;34m\u001b[0m\u001b[0m\n\u001b[1;32m   1475\u001b[0m         \u001b[0;32mreturn\u001b[0m \u001b[0mwrapper\u001b[0m\u001b[0;34m\u001b[0m\u001b[0;34m\u001b[0m\u001b[0m\n",
            "\u001b[0;32m/usr/local/lib/python3.10/dist-packages/sklearn/linear_model/_logistic.py\u001b[0m in \u001b[0;36mfit\u001b[0;34m(self, X, y, sample_weight)\u001b[0m\n\u001b[1;32m   1348\u001b[0m             \u001b[0mn_threads\u001b[0m \u001b[0;34m=\u001b[0m \u001b[0;36m1\u001b[0m\u001b[0;34m\u001b[0m\u001b[0;34m\u001b[0m\u001b[0m\n\u001b[1;32m   1349\u001b[0m \u001b[0;34m\u001b[0m\u001b[0m\n\u001b[0;32m-> 1350\u001b[0;31m         fold_coefs_ = Parallel(n_jobs=self.n_jobs, verbose=self.verbose, prefer=prefer)(\n\u001b[0m\u001b[1;32m   1351\u001b[0m             path_func(\n\u001b[1;32m   1352\u001b[0m                 \u001b[0mX\u001b[0m\u001b[0;34m,\u001b[0m\u001b[0;34m\u001b[0m\u001b[0;34m\u001b[0m\u001b[0m\n",
            "\u001b[0;32m/usr/local/lib/python3.10/dist-packages/sklearn/utils/parallel.py\u001b[0m in \u001b[0;36m__call__\u001b[0;34m(self, iterable)\u001b[0m\n\u001b[1;32m     72\u001b[0m             \u001b[0;32mfor\u001b[0m \u001b[0mdelayed_func\u001b[0m\u001b[0;34m,\u001b[0m \u001b[0margs\u001b[0m\u001b[0;34m,\u001b[0m \u001b[0mkwargs\u001b[0m \u001b[0;32min\u001b[0m \u001b[0miterable\u001b[0m\u001b[0;34m\u001b[0m\u001b[0;34m\u001b[0m\u001b[0m\n\u001b[1;32m     73\u001b[0m         )\n\u001b[0;32m---> 74\u001b[0;31m         \u001b[0;32mreturn\u001b[0m \u001b[0msuper\u001b[0m\u001b[0;34m(\u001b[0m\u001b[0;34m)\u001b[0m\u001b[0;34m.\u001b[0m\u001b[0m__call__\u001b[0m\u001b[0;34m(\u001b[0m\u001b[0miterable_with_config\u001b[0m\u001b[0;34m)\u001b[0m\u001b[0;34m\u001b[0m\u001b[0;34m\u001b[0m\u001b[0m\n\u001b[0m\u001b[1;32m     75\u001b[0m \u001b[0;34m\u001b[0m\u001b[0m\n\u001b[1;32m     76\u001b[0m \u001b[0;34m\u001b[0m\u001b[0m\n",
            "\u001b[0;32m/usr/local/lib/python3.10/dist-packages/joblib/parallel.py\u001b[0m in \u001b[0;36m__call__\u001b[0;34m(self, iterable)\u001b[0m\n\u001b[1;32m   1916\u001b[0m             \u001b[0moutput\u001b[0m \u001b[0;34m=\u001b[0m \u001b[0mself\u001b[0m\u001b[0;34m.\u001b[0m\u001b[0m_get_sequential_output\u001b[0m\u001b[0;34m(\u001b[0m\u001b[0miterable\u001b[0m\u001b[0;34m)\u001b[0m\u001b[0;34m\u001b[0m\u001b[0;34m\u001b[0m\u001b[0m\n\u001b[1;32m   1917\u001b[0m             \u001b[0mnext\u001b[0m\u001b[0;34m(\u001b[0m\u001b[0moutput\u001b[0m\u001b[0;34m)\u001b[0m\u001b[0;34m\u001b[0m\u001b[0;34m\u001b[0m\u001b[0m\n\u001b[0;32m-> 1918\u001b[0;31m             \u001b[0;32mreturn\u001b[0m \u001b[0moutput\u001b[0m \u001b[0;32mif\u001b[0m \u001b[0mself\u001b[0m\u001b[0;34m.\u001b[0m\u001b[0mreturn_generator\u001b[0m \u001b[0;32melse\u001b[0m \u001b[0mlist\u001b[0m\u001b[0;34m(\u001b[0m\u001b[0moutput\u001b[0m\u001b[0;34m)\u001b[0m\u001b[0;34m\u001b[0m\u001b[0;34m\u001b[0m\u001b[0m\n\u001b[0m\u001b[1;32m   1919\u001b[0m \u001b[0;34m\u001b[0m\u001b[0m\n\u001b[1;32m   1920\u001b[0m         \u001b[0;31m# Let's create an ID that uniquely identifies the current call. If the\u001b[0m\u001b[0;34m\u001b[0m\u001b[0;34m\u001b[0m\u001b[0m\n",
            "\u001b[0;32m/usr/local/lib/python3.10/dist-packages/joblib/parallel.py\u001b[0m in \u001b[0;36m_get_sequential_output\u001b[0;34m(self, iterable)\u001b[0m\n\u001b[1;32m   1845\u001b[0m                 \u001b[0mself\u001b[0m\u001b[0;34m.\u001b[0m\u001b[0mn_dispatched_batches\u001b[0m \u001b[0;34m+=\u001b[0m \u001b[0;36m1\u001b[0m\u001b[0;34m\u001b[0m\u001b[0;34m\u001b[0m\u001b[0m\n\u001b[1;32m   1846\u001b[0m                 \u001b[0mself\u001b[0m\u001b[0;34m.\u001b[0m\u001b[0mn_dispatched_tasks\u001b[0m \u001b[0;34m+=\u001b[0m \u001b[0;36m1\u001b[0m\u001b[0;34m\u001b[0m\u001b[0;34m\u001b[0m\u001b[0m\n\u001b[0;32m-> 1847\u001b[0;31m                 \u001b[0mres\u001b[0m \u001b[0;34m=\u001b[0m \u001b[0mfunc\u001b[0m\u001b[0;34m(\u001b[0m\u001b[0;34m*\u001b[0m\u001b[0margs\u001b[0m\u001b[0;34m,\u001b[0m \u001b[0;34m**\u001b[0m\u001b[0mkwargs\u001b[0m\u001b[0;34m)\u001b[0m\u001b[0;34m\u001b[0m\u001b[0;34m\u001b[0m\u001b[0m\n\u001b[0m\u001b[1;32m   1848\u001b[0m                 \u001b[0mself\u001b[0m\u001b[0;34m.\u001b[0m\u001b[0mn_completed_tasks\u001b[0m \u001b[0;34m+=\u001b[0m \u001b[0;36m1\u001b[0m\u001b[0;34m\u001b[0m\u001b[0;34m\u001b[0m\u001b[0m\n\u001b[1;32m   1849\u001b[0m                 \u001b[0mself\u001b[0m\u001b[0;34m.\u001b[0m\u001b[0mprint_progress\u001b[0m\u001b[0;34m(\u001b[0m\u001b[0;34m)\u001b[0m\u001b[0;34m\u001b[0m\u001b[0;34m\u001b[0m\u001b[0m\n",
            "\u001b[0;32m/usr/local/lib/python3.10/dist-packages/sklearn/utils/parallel.py\u001b[0m in \u001b[0;36m__call__\u001b[0;34m(self, *args, **kwargs)\u001b[0m\n\u001b[1;32m    134\u001b[0m             \u001b[0mconfig\u001b[0m \u001b[0;34m=\u001b[0m \u001b[0;34m{\u001b[0m\u001b[0;34m}\u001b[0m\u001b[0;34m\u001b[0m\u001b[0;34m\u001b[0m\u001b[0m\n\u001b[1;32m    135\u001b[0m         \u001b[0;32mwith\u001b[0m \u001b[0mconfig_context\u001b[0m\u001b[0;34m(\u001b[0m\u001b[0;34m**\u001b[0m\u001b[0mconfig\u001b[0m\u001b[0;34m)\u001b[0m\u001b[0;34m:\u001b[0m\u001b[0;34m\u001b[0m\u001b[0;34m\u001b[0m\u001b[0m\n\u001b[0;32m--> 136\u001b[0;31m             \u001b[0;32mreturn\u001b[0m \u001b[0mself\u001b[0m\u001b[0;34m.\u001b[0m\u001b[0mfunction\u001b[0m\u001b[0;34m(\u001b[0m\u001b[0;34m*\u001b[0m\u001b[0margs\u001b[0m\u001b[0;34m,\u001b[0m \u001b[0;34m**\u001b[0m\u001b[0mkwargs\u001b[0m\u001b[0;34m)\u001b[0m\u001b[0;34m\u001b[0m\u001b[0;34m\u001b[0m\u001b[0m\n\u001b[0m\u001b[1;32m    137\u001b[0m \u001b[0;34m\u001b[0m\u001b[0m\n\u001b[1;32m    138\u001b[0m \u001b[0;34m\u001b[0m\u001b[0m\n",
            "\u001b[0;32m/usr/local/lib/python3.10/dist-packages/sklearn/linear_model/_logistic.py\u001b[0m in \u001b[0;36m_logistic_regression_path\u001b[0;34m(X, y, pos_class, Cs, fit_intercept, max_iter, tol, verbose, solver, coef, class_weight, dual, penalty, intercept_scaling, multi_class, random_state, check_input, max_squared_sum, sample_weight, l1_ratio, n_threads)\u001b[0m\n\u001b[1;32m    310\u001b[0m         \u001b[0mmulti_class\u001b[0m \u001b[0;34m==\u001b[0m \u001b[0;34m\"multinomial\"\u001b[0m \u001b[0;32mand\u001b[0m \u001b[0mclass_weight\u001b[0m \u001b[0;32mis\u001b[0m \u001b[0;32mnot\u001b[0m \u001b[0;32mNone\u001b[0m\u001b[0;34m\u001b[0m\u001b[0;34m\u001b[0m\u001b[0m\n\u001b[1;32m    311\u001b[0m     ):\n\u001b[0;32m--> 312\u001b[0;31m         \u001b[0mclass_weight_\u001b[0m \u001b[0;34m=\u001b[0m \u001b[0mcompute_class_weight\u001b[0m\u001b[0;34m(\u001b[0m\u001b[0mclass_weight\u001b[0m\u001b[0;34m,\u001b[0m \u001b[0mclasses\u001b[0m\u001b[0;34m=\u001b[0m\u001b[0mclasses\u001b[0m\u001b[0;34m,\u001b[0m \u001b[0my\u001b[0m\u001b[0;34m=\u001b[0m\u001b[0my\u001b[0m\u001b[0;34m)\u001b[0m\u001b[0;34m\u001b[0m\u001b[0;34m\u001b[0m\u001b[0m\n\u001b[0m\u001b[1;32m    313\u001b[0m         \u001b[0msample_weight\u001b[0m \u001b[0;34m*=\u001b[0m \u001b[0mclass_weight_\u001b[0m\u001b[0;34m[\u001b[0m\u001b[0mle\u001b[0m\u001b[0;34m.\u001b[0m\u001b[0mfit_transform\u001b[0m\u001b[0;34m(\u001b[0m\u001b[0my\u001b[0m\u001b[0;34m)\u001b[0m\u001b[0;34m]\u001b[0m\u001b[0;34m\u001b[0m\u001b[0;34m\u001b[0m\u001b[0m\n\u001b[1;32m    314\u001b[0m \u001b[0;34m\u001b[0m\u001b[0m\n",
            "\u001b[0;32m/usr/local/lib/python3.10/dist-packages/sklearn/utils/_param_validation.py\u001b[0m in \u001b[0;36mwrapper\u001b[0;34m(*args, **kwargs)\u001b[0m\n\u001b[1;32m    184\u001b[0m             \u001b[0mglobal_skip_validation\u001b[0m \u001b[0;34m=\u001b[0m \u001b[0mget_config\u001b[0m\u001b[0;34m(\u001b[0m\u001b[0;34m)\u001b[0m\u001b[0;34m[\u001b[0m\u001b[0;34m\"skip_parameter_validation\"\u001b[0m\u001b[0;34m]\u001b[0m\u001b[0;34m\u001b[0m\u001b[0;34m\u001b[0m\u001b[0m\n\u001b[1;32m    185\u001b[0m             \u001b[0;32mif\u001b[0m \u001b[0mglobal_skip_validation\u001b[0m\u001b[0;34m:\u001b[0m\u001b[0;34m\u001b[0m\u001b[0;34m\u001b[0m\u001b[0m\n\u001b[0;32m--> 186\u001b[0;31m                 \u001b[0;32mreturn\u001b[0m \u001b[0mfunc\u001b[0m\u001b[0;34m(\u001b[0m\u001b[0;34m*\u001b[0m\u001b[0margs\u001b[0m\u001b[0;34m,\u001b[0m \u001b[0;34m**\u001b[0m\u001b[0mkwargs\u001b[0m\u001b[0;34m)\u001b[0m\u001b[0;34m\u001b[0m\u001b[0;34m\u001b[0m\u001b[0m\n\u001b[0m\u001b[1;32m    187\u001b[0m \u001b[0;34m\u001b[0m\u001b[0m\n\u001b[1;32m    188\u001b[0m             \u001b[0mfunc_sig\u001b[0m \u001b[0;34m=\u001b[0m \u001b[0msignature\u001b[0m\u001b[0;34m(\u001b[0m\u001b[0mfunc\u001b[0m\u001b[0;34m)\u001b[0m\u001b[0;34m\u001b[0m\u001b[0;34m\u001b[0m\u001b[0m\n",
            "\u001b[0;32m/usr/local/lib/python3.10/dist-packages/sklearn/utils/class_weight.py\u001b[0m in \u001b[0;36mcompute_class_weight\u001b[0;34m(class_weight, classes, y)\u001b[0m\n\u001b[1;32m     86\u001b[0m         \u001b[0;32mif\u001b[0m \u001b[0munweighted_classes\u001b[0m \u001b[0;32mand\u001b[0m \u001b[0mn_weighted_classes\u001b[0m \u001b[0;34m!=\u001b[0m \u001b[0mlen\u001b[0m\u001b[0;34m(\u001b[0m\u001b[0mclass_weight\u001b[0m\u001b[0;34m)\u001b[0m\u001b[0;34m:\u001b[0m\u001b[0;34m\u001b[0m\u001b[0;34m\u001b[0m\u001b[0m\n\u001b[1;32m     87\u001b[0m             \u001b[0munweighted_classes_user_friendly_str\u001b[0m \u001b[0;34m=\u001b[0m \u001b[0mnp\u001b[0m\u001b[0;34m.\u001b[0m\u001b[0marray\u001b[0m\u001b[0;34m(\u001b[0m\u001b[0munweighted_classes\u001b[0m\u001b[0;34m)\u001b[0m\u001b[0;34m.\u001b[0m\u001b[0mtolist\u001b[0m\u001b[0;34m(\u001b[0m\u001b[0;34m)\u001b[0m\u001b[0;34m\u001b[0m\u001b[0;34m\u001b[0m\u001b[0m\n\u001b[0;32m---> 88\u001b[0;31m             raise ValueError(\n\u001b[0m\u001b[1;32m     89\u001b[0m                 \u001b[0;34mf\"The classes, {unweighted_classes_user_friendly_str}, are not in\"\u001b[0m\u001b[0;34m\u001b[0m\u001b[0;34m\u001b[0m\u001b[0m\n\u001b[1;32m     90\u001b[0m                 \u001b[0;34m\" class_weight\"\u001b[0m\u001b[0;34m\u001b[0m\u001b[0;34m\u001b[0m\u001b[0m\n",
            "\u001b[0;31mValueError\u001b[0m: The classes, [65, 66, 69, 70, 71, 72, 73, 74, 75, 76, 77, 78, 81], are not in class_weight"
          ]
        }
      ]
    },
    {
      "cell_type": "code",
      "source": [
        "import librosa\n",
        "import os\n",
        "import numpy as np\n",
        "from sklearn.preprocessing import LabelEncoder\n",
        "import tensorflow as tf\n",
        "from tensorflow.keras.models import Sequential\n",
        "from tensorflow.keras.layers import Dense, LSTM, Dropout\n",
        "from tensorflow.keras.optimizers import Adam\n",
        "import pickle\n",
        "\n",
        "# Path to the directory with your audio files\n",
        "audio_files_directory = '/content/drive/MyDrive/[SPOTDOWNLOADER.COM] ML dataset (wav files)/'\n",
        "\n",
        "# Path to save the preprocessed features\n",
        "features_path = '/content/features.pkl'\n",
        "\n",
        "# List of all audio files (already matched)\n",
        "audio_files = ['505', 'legroom', 'cigarettesoutthewindow', 'canicallyoutonight', 'betterinthedark', 'birdsofafeather',\n",
        "               'birdsdontsing', 'badhabit', 'babydoll', 'attitudeiwantmore', 'alittledeath', 'stressrelief', 'somethingaboutyou',\n",
        "               'saythatyoumissme3', 'notallowed', 'loversrock', 'letithappen', 'doubt', 'diehard', 'darkred', 'dangal',\n",
        "               'cupidtwinverfeatsabrinacarpenter', 'crybaby', 'countingstars', 'cocainesunday', 'circles', 'chitchat', 'borderline',\n",
        "               'cakebytheocean', 'chamberofreflection', 'chandsifarish', 'freaks', 'formula', 'foreveryoung',\n",
        "               'foolscanthelpfallinginlovefeatsody', 'escapism', 'electriclove', 'duvet', 'honeypie', 'honey',\n",
        "               'havanafeatyoungthug', 'goldenhour', 'ghost', 'fshion', 'fromthestart', 'killbill', 'kamikaze', 'ifuthinkimpretty',\n",
        "               'iwasmadeforlovinyou', 'iwannabeyours', 'ilikethewayyoukissme', 'idieagain', 'newgoldfeattameimpalaandbootiebrown',\n",
        "               'muskaaneinjhootihai', 'monalisa', 'maniac', 'lavendersunflower', 'kneesocks', 'scars', 'riptide', 'rememberwhen',\n",
        "               'raabta', 'nicoandtheniners', 'nextexit', 'newpersonsameoldmistakes', 'takemetothesun', 'swim', 'sunsetz',\n",
        "               'solomission', 'shutupmymomscalling', 'seeyousoon', 'seeyouagainfeatkaliuchis', 'waitaminute',\n",
        "               'unlovable', 'undercovermartyn', 'thoseeyes', 'thissideofparadise', 'theshade', 'thenightwemet', 'tellem',\n",
        "               'telepatia', 'tekit', 'yougetmesohigh', 'wefellinloveinoctober', 'young', 'washingmachineheart', 'youngblood']\n",
        "\n",
        "# This function will load the audio and return features (like MFCCs)\n",
        "def extract_features(file_path):\n",
        "    y, sr = librosa.load(file_path, sr=None)  # Load the audio file\n",
        "    mfcc = librosa.feature.mfcc(y=y, sr=sr, n_mfcc=13)  # Extract MFCCs\n",
        "    return np.mean(mfcc, axis=1)  # Average MFCCs over time\n",
        "\n",
        "# Preprocessing: Load each audio file and extract its features\n",
        "X = []\n",
        "y = []\n",
        "labels = []  # To store corresponding labels for classification\n",
        "\n",
        "for idx, file_name in enumerate(audio_files):\n",
        "    file_path = os.path.join(audio_files_directory, f'{file_name}.wav')  # Construct full file path\n",
        "    features = extract_features(file_path)  # Extract features\n",
        "    X.append(features)  # Append features to the list\n",
        "    y.append(idx)  # Label is the index of the file in the list (could be the song name)\n",
        "    labels.append(file_name)\n",
        "\n",
        "X = np.array(X)  # Convert features list to numpy array\n",
        "y = np.array(y)  # Convert labels list to numpy array\n",
        "\n",
        "# Normalize the features (you can also try standardization)\n",
        "X = (X - np.mean(X, axis=0)) / np.std(X, axis=0)\n",
        "\n",
        "# Encode labels (if necessary)\n",
        "label_encoder = LabelEncoder()\n",
        "y = label_encoder.fit_transform(y)  # Convert labels to integers\n",
        "\n",
        "# Save the features and labels to a file (Pickle)\n",
        "with open(features_path, 'wb') as f:\n",
        "    pickle.dump({'X': X, 'y': y, 'labels': labels}, f)\n",
        "\n",
        "# Reshaping X for LSTM (if you're planning to use LSTM)\n",
        "X = X.reshape(X.shape[0], X.shape[1], 1)  # Add an extra dimension for LSTM\n",
        "\n"
      ],
      "metadata": {
        "id": "48fcn7AQbrwK"
      },
      "execution_count": null,
      "outputs": []
    },
    {
      "cell_type": "code",
      "source": [
        "import os\n",
        "\n",
        "file_path = '/content/drive/MyDrive/[SPOTDOWNLOADER.COM] ML dataset (wav files)'\n",
        "if os.path.exists(file_path):\n",
        "    print(f\"File exists: {file_path}\")\n",
        "else:\n",
        "    print(f\"File not found: {file_path}\")\n"
      ],
      "metadata": {
        "colab": {
          "base_uri": "https://localhost:8080/"
        },
        "id": "dMjwb9pBhN9P",
        "outputId": "bbc829b0-29fb-48a7-c414-ade909560f26"
      },
      "execution_count": null,
      "outputs": [
        {
          "output_type": "stream",
          "name": "stdout",
          "text": [
            "File exists: /content/drive/MyDrive/[SPOTDOWNLOADER.COM] ML dataset (wav files)\n"
          ]
        }
      ]
    },
    {
      "cell_type": "code",
      "source": [
        "# Build the LSTM model\n",
        "model = Sequential()\n",
        "\n",
        "# Add LSTM layer with dropout to avoid overfitting\n",
        "model.add(LSTM(128, input_shape=(X.shape[1], 1), return_sequences=False))\n",
        "model.add(Dropout(0.2))  # Dropout layer for regularization\n",
        "\n",
        "# Add a Dense layer for classification\n",
        "model.add(Dense(64, activation='relu'))  # Dense layer with 64 neurons\n",
        "model.add(Dropout(0.2))  # Dropout layer for regularization\n",
        "\n",
        "# Output layer with softmax activation (for multi-class classification)\n",
        "model.add(Dense(len(labels), activation='softmax'))\n",
        "\n",
        "# Compile the model\n",
        "model.compile(optimizer=Adam(), loss='sparse_categorical_crossentropy', metrics=['accuracy'])\n",
        "\n",
        "# Summarize the model architecture\n",
        "model.summary()\n"
      ],
      "metadata": {
        "colab": {
          "base_uri": "https://localhost:8080/",
          "height": 345
        },
        "id": "vyO3n8QNovLh",
        "outputId": "3ee93051-9010-4773-f84a-6f2899062a5e"
      },
      "execution_count": null,
      "outputs": [
        {
          "output_type": "stream",
          "name": "stderr",
          "text": [
            "/usr/local/lib/python3.10/dist-packages/keras/src/layers/rnn/rnn.py:204: UserWarning: Do not pass an `input_shape`/`input_dim` argument to a layer. When using Sequential models, prefer using an `Input(shape)` object as the first layer in the model instead.\n",
            "  super().__init__(**kwargs)\n"
          ]
        },
        {
          "output_type": "display_data",
          "data": {
            "text/plain": [
              "\u001b[1mModel: \"sequential_1\"\u001b[0m\n"
            ],
            "text/html": [
              "<pre style=\"white-space:pre;overflow-x:auto;line-height:normal;font-family:Menlo,'DejaVu Sans Mono',consolas,'Courier New',monospace\"><span style=\"font-weight: bold\">Model: \"sequential_1\"</span>\n",
              "</pre>\n"
            ]
          },
          "metadata": {}
        },
        {
          "output_type": "display_data",
          "data": {
            "text/plain": [
              "┏━━━━━━━━━━━━━━━━━━━━━━━━━━━━━━━━━━━━━━┳━━━━━━━━━━━━━━━━━━━━━━━━━━━━━┳━━━━━━━━━━━━━━━━━┓\n",
              "┃\u001b[1m \u001b[0m\u001b[1mLayer (type)                        \u001b[0m\u001b[1m \u001b[0m┃\u001b[1m \u001b[0m\u001b[1mOutput Shape               \u001b[0m\u001b[1m \u001b[0m┃\u001b[1m \u001b[0m\u001b[1m        Param #\u001b[0m\u001b[1m \u001b[0m┃\n",
              "┡━━━━━━━━━━━━━━━━━━━━━━━━━━━━━━━━━━━━━━╇━━━━━━━━━━━━━━━━━━━━━━━━━━━━━╇━━━━━━━━━━━━━━━━━┩\n",
              "│ lstm (\u001b[38;5;33mLSTM\u001b[0m)                          │ (\u001b[38;5;45mNone\u001b[0m, \u001b[38;5;34m128\u001b[0m)                 │          \u001b[38;5;34m66,560\u001b[0m │\n",
              "├──────────────────────────────────────┼─────────────────────────────┼─────────────────┤\n",
              "│ dropout (\u001b[38;5;33mDropout\u001b[0m)                    │ (\u001b[38;5;45mNone\u001b[0m, \u001b[38;5;34m128\u001b[0m)                 │               \u001b[38;5;34m0\u001b[0m │\n",
              "├──────────────────────────────────────┼─────────────────────────────┼─────────────────┤\n",
              "│ dense_3 (\u001b[38;5;33mDense\u001b[0m)                      │ (\u001b[38;5;45mNone\u001b[0m, \u001b[38;5;34m64\u001b[0m)                  │           \u001b[38;5;34m8,256\u001b[0m │\n",
              "├──────────────────────────────────────┼─────────────────────────────┼─────────────────┤\n",
              "│ dropout_1 (\u001b[38;5;33mDropout\u001b[0m)                  │ (\u001b[38;5;45mNone\u001b[0m, \u001b[38;5;34m64\u001b[0m)                  │               \u001b[38;5;34m0\u001b[0m │\n",
              "├──────────────────────────────────────┼─────────────────────────────┼─────────────────┤\n",
              "│ dense_4 (\u001b[38;5;33mDense\u001b[0m)                      │ (\u001b[38;5;45mNone\u001b[0m, \u001b[38;5;34m87\u001b[0m)                  │           \u001b[38;5;34m5,655\u001b[0m │\n",
              "└──────────────────────────────────────┴─────────────────────────────┴─────────────────┘\n"
            ],
            "text/html": [
              "<pre style=\"white-space:pre;overflow-x:auto;line-height:normal;font-family:Menlo,'DejaVu Sans Mono',consolas,'Courier New',monospace\">┏━━━━━━━━━━━━━━━━━━━━━━━━━━━━━━━━━━━━━━┳━━━━━━━━━━━━━━━━━━━━━━━━━━━━━┳━━━━━━━━━━━━━━━━━┓\n",
              "┃<span style=\"font-weight: bold\"> Layer (type)                         </span>┃<span style=\"font-weight: bold\"> Output Shape                </span>┃<span style=\"font-weight: bold\">         Param # </span>┃\n",
              "┡━━━━━━━━━━━━━━━━━━━━━━━━━━━━━━━━━━━━━━╇━━━━━━━━━━━━━━━━━━━━━━━━━━━━━╇━━━━━━━━━━━━━━━━━┩\n",
              "│ lstm (<span style=\"color: #0087ff; text-decoration-color: #0087ff\">LSTM</span>)                          │ (<span style=\"color: #00d7ff; text-decoration-color: #00d7ff\">None</span>, <span style=\"color: #00af00; text-decoration-color: #00af00\">128</span>)                 │          <span style=\"color: #00af00; text-decoration-color: #00af00\">66,560</span> │\n",
              "├──────────────────────────────────────┼─────────────────────────────┼─────────────────┤\n",
              "│ dropout (<span style=\"color: #0087ff; text-decoration-color: #0087ff\">Dropout</span>)                    │ (<span style=\"color: #00d7ff; text-decoration-color: #00d7ff\">None</span>, <span style=\"color: #00af00; text-decoration-color: #00af00\">128</span>)                 │               <span style=\"color: #00af00; text-decoration-color: #00af00\">0</span> │\n",
              "├──────────────────────────────────────┼─────────────────────────────┼─────────────────┤\n",
              "│ dense_3 (<span style=\"color: #0087ff; text-decoration-color: #0087ff\">Dense</span>)                      │ (<span style=\"color: #00d7ff; text-decoration-color: #00d7ff\">None</span>, <span style=\"color: #00af00; text-decoration-color: #00af00\">64</span>)                  │           <span style=\"color: #00af00; text-decoration-color: #00af00\">8,256</span> │\n",
              "├──────────────────────────────────────┼─────────────────────────────┼─────────────────┤\n",
              "│ dropout_1 (<span style=\"color: #0087ff; text-decoration-color: #0087ff\">Dropout</span>)                  │ (<span style=\"color: #00d7ff; text-decoration-color: #00d7ff\">None</span>, <span style=\"color: #00af00; text-decoration-color: #00af00\">64</span>)                  │               <span style=\"color: #00af00; text-decoration-color: #00af00\">0</span> │\n",
              "├──────────────────────────────────────┼─────────────────────────────┼─────────────────┤\n",
              "│ dense_4 (<span style=\"color: #0087ff; text-decoration-color: #0087ff\">Dense</span>)                      │ (<span style=\"color: #00d7ff; text-decoration-color: #00d7ff\">None</span>, <span style=\"color: #00af00; text-decoration-color: #00af00\">87</span>)                  │           <span style=\"color: #00af00; text-decoration-color: #00af00\">5,655</span> │\n",
              "└──────────────────────────────────────┴─────────────────────────────┴─────────────────┘\n",
              "</pre>\n"
            ]
          },
          "metadata": {}
        },
        {
          "output_type": "display_data",
          "data": {
            "text/plain": [
              "\u001b[1m Total params: \u001b[0m\u001b[38;5;34m80,471\u001b[0m (314.34 KB)\n"
            ],
            "text/html": [
              "<pre style=\"white-space:pre;overflow-x:auto;line-height:normal;font-family:Menlo,'DejaVu Sans Mono',consolas,'Courier New',monospace\"><span style=\"font-weight: bold\"> Total params: </span><span style=\"color: #00af00; text-decoration-color: #00af00\">80,471</span> (314.34 KB)\n",
              "</pre>\n"
            ]
          },
          "metadata": {}
        },
        {
          "output_type": "display_data",
          "data": {
            "text/plain": [
              "\u001b[1m Trainable params: \u001b[0m\u001b[38;5;34m80,471\u001b[0m (314.34 KB)\n"
            ],
            "text/html": [
              "<pre style=\"white-space:pre;overflow-x:auto;line-height:normal;font-family:Menlo,'DejaVu Sans Mono',consolas,'Courier New',monospace\"><span style=\"font-weight: bold\"> Trainable params: </span><span style=\"color: #00af00; text-decoration-color: #00af00\">80,471</span> (314.34 KB)\n",
              "</pre>\n"
            ]
          },
          "metadata": {}
        },
        {
          "output_type": "display_data",
          "data": {
            "text/plain": [
              "\u001b[1m Non-trainable params: \u001b[0m\u001b[38;5;34m0\u001b[0m (0.00 B)\n"
            ],
            "text/html": [
              "<pre style=\"white-space:pre;overflow-x:auto;line-height:normal;font-family:Menlo,'DejaVu Sans Mono',consolas,'Courier New',monospace\"><span style=\"font-weight: bold\"> Non-trainable params: </span><span style=\"color: #00af00; text-decoration-color: #00af00\">0</span> (0.00 B)\n",
              "</pre>\n"
            ]
          },
          "metadata": {}
        }
      ]
    },
    {
      "cell_type": "code",
      "source": [
        "# Train the model\n",
        "history = model.fit(X, y, epochs=50, batch_size=32, validation_split=0.2)\n",
        "\n",
        "# Save the trained model\n",
        "model.save('/content/audio_classification_model.h5')\n",
        "\n",
        "# Optionally, save the training history to visualize later\n",
        "with open('/content/training_history.pkl', 'wb') as f:\n",
        "    pickle.dump(history.history, f)\n"
      ],
      "metadata": {
        "colab": {
          "base_uri": "https://localhost:8080/"
        },
        "id": "OS5iW9G8o2Ca",
        "outputId": "c971b93a-8afe-4178-c5fb-8d19243a8355"
      },
      "execution_count": null,
      "outputs": [
        {
          "output_type": "stream",
          "name": "stdout",
          "text": [
            "Epoch 1/50\n",
            "\u001b[1m3/3\u001b[0m \u001b[32m━━━━━━━━━━━━━━━━━━━━\u001b[0m\u001b[37m\u001b[0m \u001b[1m3s\u001b[0m 150ms/step - accuracy: 0.0000e+00 - loss: 4.4696 - val_accuracy: 0.0000e+00 - val_loss: 4.4715\n",
            "Epoch 2/50\n",
            "\u001b[1m3/3\u001b[0m \u001b[32m━━━━━━━━━━━━━━━━━━━━\u001b[0m\u001b[37m\u001b[0m \u001b[1m0s\u001b[0m 27ms/step - accuracy: 0.0301 - loss: 4.4580 - val_accuracy: 0.0000e+00 - val_loss: 4.4789\n",
            "Epoch 3/50\n",
            "\u001b[1m3/3\u001b[0m \u001b[32m━━━━━━━━━━━━━━━━━━━━\u001b[0m\u001b[37m\u001b[0m \u001b[1m0s\u001b[0m 24ms/step - accuracy: 0.0262 - loss: 4.4573 - val_accuracy: 0.0000e+00 - val_loss: 4.4874\n",
            "Epoch 4/50\n",
            "\u001b[1m3/3\u001b[0m \u001b[32m━━━━━━━━━━━━━━━━━━━━\u001b[0m\u001b[37m\u001b[0m \u001b[1m0s\u001b[0m 25ms/step - accuracy: 0.0301 - loss: 4.4469 - val_accuracy: 0.0000e+00 - val_loss: 4.4969\n",
            "Epoch 5/50\n",
            "\u001b[1m3/3\u001b[0m \u001b[32m━━━━━━━━━━━━━━━━━━━━\u001b[0m\u001b[37m\u001b[0m \u001b[1m0s\u001b[0m 34ms/step - accuracy: 0.0379 - loss: 4.4366 - val_accuracy: 0.0000e+00 - val_loss: 4.5087\n",
            "Epoch 6/50\n",
            "\u001b[1m3/3\u001b[0m \u001b[32m━━━━━━━━━━━━━━━━━━━━\u001b[0m\u001b[37m\u001b[0m \u001b[1m0s\u001b[0m 25ms/step - accuracy: 0.0413 - loss: 4.4284 - val_accuracy: 0.0000e+00 - val_loss: 4.5235\n",
            "Epoch 7/50\n",
            "\u001b[1m3/3\u001b[0m \u001b[32m━━━━━━━━━━━━━━━━━━━━\u001b[0m\u001b[37m\u001b[0m \u001b[1m0s\u001b[0m 24ms/step - accuracy: 0.0262 - loss: 4.4178 - val_accuracy: 0.0000e+00 - val_loss: 4.5432\n",
            "Epoch 8/50\n",
            "\u001b[1m3/3\u001b[0m \u001b[32m━━━━━━━━━━━━━━━━━━━━\u001b[0m\u001b[37m\u001b[0m \u001b[1m0s\u001b[0m 32ms/step - accuracy: 0.0569 - loss: 4.4036 - val_accuracy: 0.0000e+00 - val_loss: 4.5687\n",
            "Epoch 9/50\n",
            "\u001b[1m3/3\u001b[0m \u001b[32m━━━━━━━━━━━━━━━━━━━━\u001b[0m\u001b[37m\u001b[0m \u001b[1m0s\u001b[0m 24ms/step - accuracy: 0.0379 - loss: 4.3802 - val_accuracy: 0.0000e+00 - val_loss: 4.6027\n",
            "Epoch 10/50\n",
            "\u001b[1m3/3\u001b[0m \u001b[32m━━━━━━━━━━━━━━━━━━━━\u001b[0m\u001b[37m\u001b[0m \u001b[1m0s\u001b[0m 23ms/step - accuracy: 0.0563 - loss: 4.3578 - val_accuracy: 0.0000e+00 - val_loss: 4.6532\n",
            "Epoch 11/50\n",
            "\u001b[1m3/3\u001b[0m \u001b[32m━━━━━━━━━━━━━━━━━━━━\u001b[0m\u001b[37m\u001b[0m \u001b[1m0s\u001b[0m 66ms/step - accuracy: 0.0569 - loss: 4.3289 - val_accuracy: 0.0000e+00 - val_loss: 4.7397\n",
            "Epoch 12/50\n",
            "\u001b[1m3/3\u001b[0m \u001b[32m━━━━━━━━━━━━━━━━━━━━\u001b[0m\u001b[37m\u001b[0m \u001b[1m0s\u001b[0m 38ms/step - accuracy: 0.0223 - loss: 4.2704 - val_accuracy: 0.0000e+00 - val_loss: 4.9292\n",
            "Epoch 13/50\n",
            "\u001b[1m3/3\u001b[0m \u001b[32m━━━━━━━━━━━━━━━━━━━━\u001b[0m\u001b[37m\u001b[0m \u001b[1m0s\u001b[0m 74ms/step - accuracy: 0.0491 - loss: 4.1856 - val_accuracy: 0.0000e+00 - val_loss: 5.2189\n",
            "Epoch 14/50\n",
            "\u001b[1m3/3\u001b[0m \u001b[32m━━━━━━━━━━━━━━━━━━━━\u001b[0m\u001b[37m\u001b[0m \u001b[1m0s\u001b[0m 79ms/step - accuracy: 0.0446 - loss: 4.1279 - val_accuracy: 0.0000e+00 - val_loss: 5.5055\n",
            "Epoch 15/50\n",
            "\u001b[1m3/3\u001b[0m \u001b[32m━━━━━━━━━━━━━━━━━━━━\u001b[0m\u001b[37m\u001b[0m \u001b[1m0s\u001b[0m 37ms/step - accuracy: 0.0374 - loss: 4.1912 - val_accuracy: 0.0000e+00 - val_loss: 5.6002\n",
            "Epoch 16/50\n",
            "\u001b[1m3/3\u001b[0m \u001b[32m━━━━━━━━━━━━━━━━━━━━\u001b[0m\u001b[37m\u001b[0m \u001b[1m0s\u001b[0m 36ms/step - accuracy: 0.0753 - loss: 4.0487 - val_accuracy: 0.0000e+00 - val_loss: 5.5655\n",
            "Epoch 17/50\n",
            "\u001b[1m3/3\u001b[0m \u001b[32m━━━━━━━━━━━━━━━━━━━━\u001b[0m\u001b[37m\u001b[0m \u001b[1m0s\u001b[0m 44ms/step - accuracy: 0.0413 - loss: 3.9966 - val_accuracy: 0.0000e+00 - val_loss: 5.6487\n",
            "Epoch 18/50\n",
            "\u001b[1m3/3\u001b[0m \u001b[32m━━━━━━━━━━━━━━━━━━━━\u001b[0m\u001b[37m\u001b[0m \u001b[1m0s\u001b[0m 49ms/step - accuracy: 0.0675 - loss: 3.9070 - val_accuracy: 0.0000e+00 - val_loss: 5.9552\n",
            "Epoch 19/50\n",
            "\u001b[1m3/3\u001b[0m \u001b[32m━━━━━━━━━━━━━━━━━━━━\u001b[0m\u001b[37m\u001b[0m \u001b[1m0s\u001b[0m 36ms/step - accuracy: 0.0524 - loss: 3.8559 - val_accuracy: 0.0000e+00 - val_loss: 6.4321\n",
            "Epoch 20/50\n",
            "\u001b[1m3/3\u001b[0m \u001b[32m━━━━━━━━━━━━━━━━━━━━\u001b[0m\u001b[37m\u001b[0m \u001b[1m0s\u001b[0m 47ms/step - accuracy: 0.0714 - loss: 3.8327 - val_accuracy: 0.0000e+00 - val_loss: 6.6807\n",
            "Epoch 21/50\n",
            "\u001b[1m3/3\u001b[0m \u001b[32m━━━━━━━━━━━━━━━━━━━━\u001b[0m\u001b[37m\u001b[0m \u001b[1m0s\u001b[0m 39ms/step - accuracy: 0.0524 - loss: 3.6732 - val_accuracy: 0.0000e+00 - val_loss: 6.7209\n",
            "Epoch 22/50\n",
            "\u001b[1m3/3\u001b[0m \u001b[32m━━━━━━━━━━━━━━━━━━━━\u001b[0m\u001b[37m\u001b[0m \u001b[1m0s\u001b[0m 45ms/step - accuracy: 0.0563 - loss: 3.7558 - val_accuracy: 0.0000e+00 - val_loss: 6.7742\n",
            "Epoch 23/50\n",
            "\u001b[1m3/3\u001b[0m \u001b[32m━━━━━━━━━━━━━━━━━━━━\u001b[0m\u001b[37m\u001b[0m \u001b[1m0s\u001b[0m 41ms/step - accuracy: 0.1160 - loss: 3.6356 - val_accuracy: 0.0000e+00 - val_loss: 7.1267\n",
            "Epoch 24/50\n",
            "\u001b[1m3/3\u001b[0m \u001b[32m━━━━━━━━━━━━━━━━━━━━\u001b[0m\u001b[37m\u001b[0m \u001b[1m0s\u001b[0m 43ms/step - accuracy: 0.1394 - loss: 3.5515 - val_accuracy: 0.0000e+00 - val_loss: 7.5628\n",
            "Epoch 25/50\n",
            "\u001b[1m3/3\u001b[0m \u001b[32m━━━━━━━━━━━━━━━━━━━━\u001b[0m\u001b[37m\u001b[0m \u001b[1m0s\u001b[0m 50ms/step - accuracy: 0.0223 - loss: 3.5445 - val_accuracy: 0.0000e+00 - val_loss: 7.7103\n",
            "Epoch 26/50\n",
            "\u001b[1m3/3\u001b[0m \u001b[32m━━━━━━━━━━━━━━━━━━━━\u001b[0m\u001b[37m\u001b[0m \u001b[1m0s\u001b[0m 43ms/step - accuracy: 0.0491 - loss: 3.5447 - val_accuracy: 0.0000e+00 - val_loss: 7.6858\n",
            "Epoch 27/50\n",
            "\u001b[1m3/3\u001b[0m \u001b[32m━━━━━━━━━━━━━━━━━━━━\u001b[0m\u001b[37m\u001b[0m \u001b[1m0s\u001b[0m 66ms/step - accuracy: 0.0870 - loss: 3.4124 - val_accuracy: 0.0000e+00 - val_loss: 7.7230\n",
            "Epoch 28/50\n",
            "\u001b[1m3/3\u001b[0m \u001b[32m━━━━━━━━━━━━━━━━━━━━\u001b[0m\u001b[37m\u001b[0m \u001b[1m0s\u001b[0m 41ms/step - accuracy: 0.1127 - loss: 3.4239 - val_accuracy: 0.0000e+00 - val_loss: 8.0563\n",
            "Epoch 29/50\n",
            "\u001b[1m3/3\u001b[0m \u001b[32m━━━━━━━━━━━━━━━━━━━━\u001b[0m\u001b[37m\u001b[0m \u001b[1m0s\u001b[0m 38ms/step - accuracy: 0.1729 - loss: 3.2280 - val_accuracy: 0.0000e+00 - val_loss: 8.5755\n",
            "Epoch 30/50\n",
            "\u001b[1m3/3\u001b[0m \u001b[32m━━━━━━━━━━━━━━━━━━━━\u001b[0m\u001b[37m\u001b[0m \u001b[1m0s\u001b[0m 39ms/step - accuracy: 0.1617 - loss: 3.3387 - val_accuracy: 0.0000e+00 - val_loss: 9.0608\n",
            "Epoch 31/50\n",
            "\u001b[1m3/3\u001b[0m \u001b[32m━━━━━━━━━━━━━━━━━━━━\u001b[0m\u001b[37m\u001b[0m \u001b[1m0s\u001b[0m 25ms/step - accuracy: 0.0786 - loss: 3.2822 - val_accuracy: 0.0000e+00 - val_loss: 9.1566\n",
            "Epoch 32/50\n",
            "\u001b[1m3/3\u001b[0m \u001b[32m━━━━━━━━━━━━━━━━━━━━\u001b[0m\u001b[37m\u001b[0m \u001b[1m0s\u001b[0m 37ms/step - accuracy: 0.1506 - loss: 3.2427 - val_accuracy: 0.0000e+00 - val_loss: 9.0063\n",
            "Epoch 33/50\n",
            "\u001b[1m3/3\u001b[0m \u001b[32m━━━━━━━━━━━━━━━━━━━━\u001b[0m\u001b[37m\u001b[0m \u001b[1m0s\u001b[0m 23ms/step - accuracy: 0.1054 - loss: 3.2252 - val_accuracy: 0.0000e+00 - val_loss: 8.9739\n",
            "Epoch 34/50\n",
            "\u001b[1m3/3\u001b[0m \u001b[32m━━━━━━━━━━━━━━━━━━━━\u001b[0m\u001b[37m\u001b[0m \u001b[1m0s\u001b[0m 24ms/step - accuracy: 0.1472 - loss: 3.1544 - val_accuracy: 0.0000e+00 - val_loss: 9.1821\n",
            "Epoch 35/50\n",
            "\u001b[1m3/3\u001b[0m \u001b[32m━━━━━━━━━━━━━━━━━━━━\u001b[0m\u001b[37m\u001b[0m \u001b[1m0s\u001b[0m 24ms/step - accuracy: 0.1690 - loss: 3.0716 - val_accuracy: 0.0000e+00 - val_loss: 9.3943\n",
            "Epoch 36/50\n",
            "\u001b[1m3/3\u001b[0m \u001b[32m━━━━━━━━━━━━━━━━━━━━\u001b[0m\u001b[37m\u001b[0m \u001b[1m0s\u001b[0m 23ms/step - accuracy: 0.1361 - loss: 3.1107 - val_accuracy: 0.0000e+00 - val_loss: 9.4423\n",
            "Epoch 37/50\n",
            "\u001b[1m3/3\u001b[0m \u001b[32m━━━━━━━━━━━━━━━━━━━━\u001b[0m\u001b[37m\u001b[0m \u001b[1m0s\u001b[0m 38ms/step - accuracy: 0.1461 - loss: 2.8531 - val_accuracy: 0.0000e+00 - val_loss: 9.6900\n",
            "Epoch 38/50\n",
            "\u001b[1m3/3\u001b[0m \u001b[32m━━━━━━━━━━━━━━━━━━━━\u001b[0m\u001b[37m\u001b[0m \u001b[1m0s\u001b[0m 24ms/step - accuracy: 0.2214 - loss: 2.9683 - val_accuracy: 0.0000e+00 - val_loss: 10.1605\n",
            "Epoch 39/50\n",
            "\u001b[1m3/3\u001b[0m \u001b[32m━━━━━━━━━━━━━━━━━━━━\u001b[0m\u001b[37m\u001b[0m \u001b[1m0s\u001b[0m 24ms/step - accuracy: 0.1846 - loss: 2.9823 - val_accuracy: 0.0000e+00 - val_loss: 10.5603\n",
            "Epoch 40/50\n",
            "\u001b[1m3/3\u001b[0m \u001b[32m━━━━━━━━━━━━━━━━━━━━\u001b[0m\u001b[37m\u001b[0m \u001b[1m0s\u001b[0m 24ms/step - accuracy: 0.1350 - loss: 2.8271 - val_accuracy: 0.0000e+00 - val_loss: 10.5698\n",
            "Epoch 41/50\n",
            "\u001b[1m3/3\u001b[0m \u001b[32m━━━━━━━━━━━━━━━━━━━━\u001b[0m\u001b[37m\u001b[0m \u001b[1m0s\u001b[0m 25ms/step - accuracy: 0.2331 - loss: 2.7272 - val_accuracy: 0.0000e+00 - val_loss: 10.5686\n",
            "Epoch 42/50\n",
            "\u001b[1m3/3\u001b[0m \u001b[32m━━━━━━━━━━━━━━━━━━━━\u001b[0m\u001b[37m\u001b[0m \u001b[1m0s\u001b[0m 25ms/step - accuracy: 0.2181 - loss: 2.8197 - val_accuracy: 0.0000e+00 - val_loss: 10.5658\n",
            "Epoch 43/50\n",
            "\u001b[1m3/3\u001b[0m \u001b[32m━━━━━━━━━━━━━━━━━━━━\u001b[0m\u001b[37m\u001b[0m \u001b[1m0s\u001b[0m 24ms/step - accuracy: 0.2075 - loss: 2.7235 - val_accuracy: 0.0000e+00 - val_loss: 10.5890\n",
            "Epoch 44/50\n",
            "\u001b[1m3/3\u001b[0m \u001b[32m━━━━━━━━━━━━━━━━━━━━\u001b[0m\u001b[37m\u001b[0m \u001b[1m0s\u001b[0m 25ms/step - accuracy: 0.1723 - loss: 2.7040 - val_accuracy: 0.0000e+00 - val_loss: 10.7872\n",
            "Epoch 45/50\n",
            "\u001b[1m3/3\u001b[0m \u001b[32m━━━━━━━━━━━━━━━━━━━━\u001b[0m\u001b[37m\u001b[0m \u001b[1m0s\u001b[0m 32ms/step - accuracy: 0.3246 - loss: 2.5080 - val_accuracy: 0.0000e+00 - val_loss: 10.8071\n",
            "Epoch 46/50\n",
            "\u001b[1m3/3\u001b[0m \u001b[32m━━━━━━━━━━━━━━━━━━━━\u001b[0m\u001b[37m\u001b[0m \u001b[1m0s\u001b[0m 24ms/step - accuracy: 0.1500 - loss: 2.6058 - val_accuracy: 0.0000e+00 - val_loss: 10.9254\n",
            "Epoch 47/50\n",
            "\u001b[1m3/3\u001b[0m \u001b[32m━━━━━━━━━━━━━━━━━━━━\u001b[0m\u001b[37m\u001b[0m \u001b[1m0s\u001b[0m 26ms/step - accuracy: 0.2566 - loss: 2.5465 - val_accuracy: 0.0000e+00 - val_loss: 11.1699\n",
            "Epoch 48/50\n",
            "\u001b[1m3/3\u001b[0m \u001b[32m━━━━━━━━━━━━━━━━━━━━\u001b[0m\u001b[37m\u001b[0m \u001b[1m0s\u001b[0m 24ms/step - accuracy: 0.3391 - loss: 2.4400 - val_accuracy: 0.0000e+00 - val_loss: 11.3284\n",
            "Epoch 49/50\n",
            "\u001b[1m3/3\u001b[0m \u001b[32m━━━━━━━━━━━━━━━━━━━━\u001b[0m\u001b[37m\u001b[0m \u001b[1m0s\u001b[0m 24ms/step - accuracy: 0.3240 - loss: 2.3813 - val_accuracy: 0.0000e+00 - val_loss: 11.2138\n",
            "Epoch 50/50\n",
            "\u001b[1m3/3\u001b[0m \u001b[32m━━━━━━━━━━━━━━━━━━━━\u001b[0m\u001b[37m\u001b[0m \u001b[1m0s\u001b[0m 25ms/step - accuracy: 0.2694 - loss: 2.3861 - val_accuracy: 0.0000e+00 - val_loss: 11.2905\n"
          ]
        },
        {
          "output_type": "stream",
          "name": "stderr",
          "text": [
            "WARNING:absl:You are saving your model as an HDF5 file via `model.save()` or `keras.saving.save_model(model)`. This file format is considered legacy. We recommend using instead the native Keras format, e.g. `model.save('my_model.keras')` or `keras.saving.save_model(model, 'my_model.keras')`. \n"
          ]
        }
      ]
    },
    {
      "cell_type": "code",
      "source": [
        "# Evaluate the model on the training data (or use a separate test set if available)\n",
        "loss, accuracy = model.evaluate(X, y)\n",
        "print(f'Model Loss: {loss}')\n",
        "print(f'Model Accuracy: {accuracy}')\n"
      ],
      "metadata": {
        "colab": {
          "base_uri": "https://localhost:8080/"
        },
        "id": "76zYzKwuo9xk",
        "outputId": "8f283f2a-b9af-4666-914e-f06bd80bec52"
      },
      "execution_count": null,
      "outputs": [
        {
          "output_type": "stream",
          "name": "stdout",
          "text": [
            "\u001b[1m3/3\u001b[0m \u001b[32m━━━━━━━━━━━━━━━━━━━━\u001b[0m\u001b[37m\u001b[0m \u001b[1m0s\u001b[0m 32ms/step - accuracy: 0.3776 - loss: 3.1114\n",
            "Model Loss: 4.063503265380859\n",
            "Model Accuracy: 0.3333333432674408\n"
          ]
        }
      ]
    },
    {
      "cell_type": "code",
      "source": [
        "print(model.input_shape)\n"
      ],
      "metadata": {
        "colab": {
          "base_uri": "https://localhost:8080/"
        },
        "id": "oRgc-QDAwpaK",
        "outputId": "51ae7c11-4253-463b-a5bb-1ec9ace6506e"
      },
      "execution_count": null,
      "outputs": [
        {
          "output_type": "stream",
          "name": "stdout",
          "text": [
            "(None, 13, 1)\n"
          ]
        }
      ]
    },
    {
      "cell_type": "code",
      "source": [
        "print(f\"MFCC shape before averaging: {mfcc.shape}\")\n"
      ],
      "metadata": {
        "colab": {
          "base_uri": "https://localhost:8080/"
        },
        "id": "A58U8FTuwp85",
        "outputId": "d4a43c55-4d62-4e92-c5ae-88c4294d2a1f"
      },
      "execution_count": null,
      "outputs": [
        {
          "output_type": "stream",
          "name": "stdout",
          "text": [
            "MFCC shape before averaging: (13,)\n"
          ]
        }
      ]
    },
    {
      "cell_type": "code",
      "source": [
        "print(f\"Feature shape before reshaping: {features.shape}\")\n",
        "features = features.reshape(1, 13, 1)\n",
        "print(f\"Feature shape after reshaping: {features.shape}\")\n"
      ],
      "metadata": {
        "colab": {
          "base_uri": "https://localhost:8080/"
        },
        "id": "fDyKzabwxMpL",
        "outputId": "12b94b9e-5054-4fff-f81d-0b09dd081966"
      },
      "execution_count": null,
      "outputs": [
        {
          "output_type": "stream",
          "name": "stdout",
          "text": [
            "Feature shape before reshaping: (13,)\n",
            "Feature shape after reshaping: (1, 13, 1)\n"
          ]
        }
      ]
    },
    {
      "cell_type": "code",
      "source": [
        "# Function to extract MFCCs from an audio file\n",
        "def extract_features(file_path, target_duration=30):\n",
        "    y, sr = librosa.load(file_path, sr=None)  # Load the audio\n",
        "    target_length = target_duration * sr  # Calculate target length in samples\n",
        "\n",
        "    # Trim or pad the audio to the target duration\n",
        "    if len(y) > target_length:\n",
        "        y = y[:target_length]\n",
        "    elif len(y) < target_length:\n",
        "        y = np.pad(y, (0, target_length - len(y)), mode='constant')\n",
        "\n",
        "    # Extract 13 MFCCs\n",
        "    mfcc = librosa.feature.mfcc(y=y, sr=sr, n_mfcc=13)\n",
        "    return np.mean(mfcc, axis=1)  # Average over time (should return shape (13,))\n",
        "\n",
        "# Prediction function\n",
        "def predict_audio(file_path):\n",
        "    # Extract features\n",
        "    features = extract_features(file_path)\n",
        "\n",
        "    # Debugging: Check the shape of the extracted features\n",
        "    print(f\"Extracted features shape: {features.shape}\")  # Should be (13,)\n",
        "\n",
        "    # Normalize the features (use the same normalization as during training)\n",
        "    features = (features - np.mean(X, axis=0)) / np.std(X, axis=0)\n",
        "\n",
        "    # Reshape for LSTM input (1 sample, 13 time steps, 1 feature)\n",
        "    features = features.reshape(1, 13, 1)\n",
        "\n",
        "    # Predict the label\n",
        "    prediction = model.predict(features)\n",
        "    predicted_index = np.argmax(prediction)\n",
        "\n",
        "    # Get the song name\n",
        "    predicted_song = labels[predicted_index]\n",
        "    return predicted_song\n",
        "\n",
        "# Example usage\n",
        "new_audio_file = '/content/drive/MyDrive/[SPOTDOWNLOADER.COM] ML dataset (wav files)/youngblood.wav'\n",
        "predicted_song = predict_audio(new_audio_file)\n",
        "print(f'The predicted song is: {predicted_song}')\n"
      ],
      "metadata": {
        "colab": {
          "base_uri": "https://localhost:8080/",
          "height": 346
        },
        "id": "5nOhmtQtwtvM",
        "outputId": "5f043313-d94b-4630-9698-e82b319201df"
      },
      "execution_count": null,
      "outputs": [
        {
          "output_type": "stream",
          "name": "stdout",
          "text": [
            "Extracted features shape: (13,)\n"
          ]
        },
        {
          "output_type": "error",
          "ename": "ValueError",
          "evalue": "cannot reshape array of size 169 into shape (1,13,1)",
          "traceback": [
            "\u001b[0;31m---------------------------------------------------------------------------\u001b[0m",
            "\u001b[0;31mValueError\u001b[0m                                Traceback (most recent call last)",
            "\u001b[0;32m<ipython-input-150-f7b79b0d40ed>\u001b[0m in \u001b[0;36m<cell line: 40>\u001b[0;34m()\u001b[0m\n\u001b[1;32m     38\u001b[0m \u001b[0;31m# Example usage\u001b[0m\u001b[0;34m\u001b[0m\u001b[0;34m\u001b[0m\u001b[0m\n\u001b[1;32m     39\u001b[0m \u001b[0mnew_audio_file\u001b[0m \u001b[0;34m=\u001b[0m \u001b[0;34m'/content/drive/MyDrive/[SPOTDOWNLOADER.COM] ML dataset (wav files)/youngblood.wav'\u001b[0m\u001b[0;34m\u001b[0m\u001b[0;34m\u001b[0m\u001b[0m\n\u001b[0;32m---> 40\u001b[0;31m \u001b[0mpredicted_song\u001b[0m \u001b[0;34m=\u001b[0m \u001b[0mpredict_audio\u001b[0m\u001b[0;34m(\u001b[0m\u001b[0mnew_audio_file\u001b[0m\u001b[0;34m)\u001b[0m\u001b[0;34m\u001b[0m\u001b[0;34m\u001b[0m\u001b[0m\n\u001b[0m\u001b[1;32m     41\u001b[0m \u001b[0mprint\u001b[0m\u001b[0;34m(\u001b[0m\u001b[0;34mf'The predicted song is: {predicted_song}'\u001b[0m\u001b[0;34m)\u001b[0m\u001b[0;34m\u001b[0m\u001b[0;34m\u001b[0m\u001b[0m\n",
            "\u001b[0;32m<ipython-input-150-f7b79b0d40ed>\u001b[0m in \u001b[0;36mpredict_audio\u001b[0;34m(file_path)\u001b[0m\n\u001b[1;32m     26\u001b[0m \u001b[0;34m\u001b[0m\u001b[0m\n\u001b[1;32m     27\u001b[0m     \u001b[0;31m# Reshape for LSTM input (1 sample, 13 time steps, 1 feature)\u001b[0m\u001b[0;34m\u001b[0m\u001b[0;34m\u001b[0m\u001b[0m\n\u001b[0;32m---> 28\u001b[0;31m     \u001b[0mfeatures\u001b[0m \u001b[0;34m=\u001b[0m \u001b[0mfeatures\u001b[0m\u001b[0;34m.\u001b[0m\u001b[0mreshape\u001b[0m\u001b[0;34m(\u001b[0m\u001b[0;36m1\u001b[0m\u001b[0;34m,\u001b[0m \u001b[0;36m13\u001b[0m\u001b[0;34m,\u001b[0m \u001b[0;36m1\u001b[0m\u001b[0;34m)\u001b[0m\u001b[0;34m\u001b[0m\u001b[0;34m\u001b[0m\u001b[0m\n\u001b[0m\u001b[1;32m     29\u001b[0m \u001b[0;34m\u001b[0m\u001b[0m\n\u001b[1;32m     30\u001b[0m     \u001b[0;31m# Predict the label\u001b[0m\u001b[0;34m\u001b[0m\u001b[0;34m\u001b[0m\u001b[0m\n",
            "\u001b[0;31mValueError\u001b[0m: cannot reshape array of size 169 into shape (1,13,1)"
          ]
        }
      ]
    },
    {
      "cell_type": "code",
      "source": [
        "print(labels)  # Ensure this contains the correct song names corresponding to indices\n"
      ],
      "metadata": {
        "colab": {
          "base_uri": "https://localhost:8080/"
        },
        "id": "SnW47EDfwzHT",
        "outputId": "ceb42925-7bf0-4eb7-f38f-01b71bf821a0"
      },
      "execution_count": null,
      "outputs": [
        {
          "output_type": "stream",
          "name": "stdout",
          "text": [
            "['505', 'legroom', 'cigarettesoutthewindow', 'canicallyoutonight', 'betterinthedark', 'birdsofafeather', 'birdsdontsing', 'badhabit', 'babydoll', 'attitudeiwantmore', 'alittledeath', 'stressrelief', 'somethingaboutyou', 'saythatyoumissme3', 'notallowed', 'loversrock', 'letithappen', 'doubt', 'diehard', 'darkred', 'dangal', 'cupidtwinverfeatsabrinacarpenter', 'crybaby', 'countingstars', 'cocainesunday', 'circles', 'chitchat', 'borderline', 'cakebytheocean', 'chamberofreflection', 'chandsifarish', 'freaks', 'formula', 'foreveryoung', 'foolscanthelpfallinginlovefeatsody', 'escapism', 'electriclove', 'duvet', 'honeypie', 'honey', 'havanafeatyoungthug', 'goldenhour', 'ghost', 'fshion', 'fromthestart', 'killbill', 'kamikaze', 'ifuthinkimpretty', 'iwasmadeforlovinyou', 'iwannabeyours', 'ilikethewayyoukissme', 'idieagain', 'newgoldfeattameimpalaandbootiebrown', 'muskaaneinjhootihai', 'monalisa', 'maniac', 'lavendersunflower', 'kneesocks', 'scars', 'riptide', 'rememberwhen', 'raabta', 'nicoandtheniners', 'nextexit', 'newpersonsameoldmistakes', 'takemetothesun', 'swim', 'sunsetz', 'solomission', 'shutupmymomscalling', 'seeyousoon', 'seeyouagainfeatkaliuchis', 'waitaminute', 'unlovable', 'undercovermartyn', 'thoseeyes', 'thissideofparadise', 'theshade', 'thenightwemet', 'tellem', 'telepatia', 'tekit', 'yougetmesohigh', 'wefellinloveinoctober', 'young', 'washingmachineheart', 'youngblood']\n"
          ]
        }
      ]
    },
    {
      "cell_type": "code",
      "source": [
        "# Debug the prediction output\n",
        "prediction = model.predict(features)\n",
        "print(f\"Model raw predictions: {prediction}\")  # This will show the probabilities for each class\n",
        "predicted_index = np.argmax(prediction)\n",
        "print(f\"Predicted class index: {predicted_index}\")  # Index of the predicted class\n",
        "\n",
        "# Map index to song name\n",
        "predicted_song = labels[predicted_index]\n",
        "print(f\"Predicted song: {predicted_song}\")\n"
      ],
      "metadata": {
        "colab": {
          "base_uri": "https://localhost:8080/"
        },
        "id": "j3jc8VNlx43q",
        "outputId": "86c247da-2e82-4757-d2d3-9e59199c218d"
      },
      "execution_count": null,
      "outputs": [
        {
          "output_type": "stream",
          "name": "stdout",
          "text": [
            "\u001b[1m1/1\u001b[0m \u001b[32m━━━━━━━━━━━━━━━━━━━━\u001b[0m\u001b[37m\u001b[0m \u001b[1m0s\u001b[0m 335ms/step\n",
            "Model raw predictions: [[2.91953768e-07 3.65436051e-07 1.81729332e-01 7.05995717e-07\n",
            "  1.17978266e-06 7.69481575e-03 2.00154143e-04 6.90707675e-05\n",
            "  5.86871465e-04 6.08489290e-03 5.56040406e-02 1.06291950e-03\n",
            "  2.39866767e-02 1.71773165e-04 1.27526859e-04 8.39878023e-02\n",
            "  1.63339413e-04 1.36692388e-05 1.08316242e-04 6.51671485e-07\n",
            "  1.02123506e-01 4.01033930e-07 4.05871309e-03 6.90014031e-06\n",
            "  2.65928078e-02 1.17716409e-04 5.41361002e-03 6.64172985e-05\n",
            "  5.24545658e-06 2.97624909e-04 6.52916606e-06 5.53872414e-05\n",
            "  1.15402184e-01 2.13457028e-07 6.76793861e-04 2.00727328e-07\n",
            "  5.69193698e-02 2.38344705e-06 4.51358119e-06 1.33751109e-02\n",
            "  1.89494021e-04 6.88322586e-07 1.18356184e-07 6.74125701e-02\n",
            "  3.64994979e-04 6.48952346e-06 3.84883533e-05 1.01437008e-05\n",
            "  5.98273240e-04 9.86720622e-03 5.30820480e-03 8.68938491e-03\n",
            "  2.01604939e-06 2.49476585e-07 1.41288401e-04 1.75333157e-01\n",
            "  3.93503615e-06 4.68262890e-03 2.29135621e-03 2.82454039e-06\n",
            "  2.50725479e-05 6.00728556e-04 1.09616245e-04 1.63041841e-04\n",
            "  2.99019644e-06 2.97724102e-02 2.71825324e-04 7.33716507e-03\n",
            "  4.58584253e-07 3.17938270e-06 1.17545396e-05 3.36020867e-06\n",
            "  8.56190763e-06 2.20207994e-06 2.56235637e-07 5.86050373e-06\n",
            "  9.40713278e-07 7.08877906e-07 1.49688958e-06 3.51276458e-06\n",
            "  2.16868528e-07 5.46706929e-07 1.59149579e-06 7.97814755e-06\n",
            "  5.50403911e-07 1.99079210e-07 2.51027132e-07]]\n",
            "Predicted class index: 2\n",
            "Predicted song: cigarettesoutthewindow\n"
          ]
        }
      ]
    },
    {
      "cell_type": "code",
      "source": [
        "labels = list(label_encoder.classes_)\n"
      ],
      "metadata": {
        "id": "aYuy_TZZx_-G"
      },
      "execution_count": null,
      "outputs": []
    },
    {
      "cell_type": "code",
      "source": [
        "import librosa\n",
        "import numpy as np\n",
        "import tensorflow as tf\n",
        "\n",
        "model = tf.keras.models.load_model('/content/audio_classification_model.h5')\n",
        "\n",
        "labels = ['505', 'legroom', 'cigarettesoutthewindow', 'canicallyoutonight', 'betterinthedark',\n",
        "          'birdsofafeather', 'birdsdontsing', 'badhabit', 'babydoll', 'attitudeiwantmore',\n",
        "          'alittledeath', 'stressrelief', 'somethingaboutyou', 'saythatyoumissme3', 'notallowed',\n",
        "          'loversrock', 'letithappen', 'doubt', 'diehard', 'darkred', 'dangal',\n",
        "          'cupidtwinverfeatsabrinacarpenter', 'crybaby', 'countingstars', 'cocainesunday',\n",
        "          'circles', 'chitchat', 'borderline', 'cakebytheocean', 'chamberofreflection',\n",
        "          'chandsifarish', 'freaks', 'formula', 'foreveryoung', 'foolscanthelpfallinginlovefeatsody',\n",
        "          'escapism', 'electriclove', 'duvet', 'honeypie', 'honey', 'havanafeatyoungthug',\n",
        "          'goldenhour', 'ghost', 'fshion', 'fromthestart', 'killbill', 'kamikaze',\n",
        "          'ifuthinkimpretty', 'iwasmadeforlovinyou', 'iwannabeyours', 'ilikethewayyoukissme',\n",
        "          'idieagain', 'newgoldfeattameimpalaandbootiebrown', 'muskaaneinjhootihai', 'monalisa',\n",
        "          'maniac', 'lavendersunflower', 'kneesocks', 'scars', 'riptide', 'rememberwhen',\n",
        "          'raabta', 'nicoandtheniners', 'nextexit', 'newpersonsameoldmistakes', 'takemetothesun',\n",
        "          'swim', 'sunsetz', 'solomission', 'shutupmymomscalling', 'seeyousoon',\n",
        "          'seeyouagainfeatkaliuchis', 'waitaminute', 'unlovable', 'undercovermartyn',\n",
        "          'thoseeyes', 'thissideofparadise', 'theshade', 'thenightwemet', 'tellem',\n",
        "          'telepatia', 'tekit', 'yougetmesohigh', 'wefellinloveinoctober', 'young',\n",
        "          'washingmachineheart', 'youngblood']\n",
        "\n",
        "def extract_features(file_path, target_duration=30):\n",
        "    y, sr = librosa.load(file_path, sr=None)\n",
        "    target_length = target_duration * sr\n",
        "\n",
        "    if len(y) > target_length:\n",
        "        y = y[:target_length]\n",
        "    elif len(y) < target_length:\n",
        "        y = np.pad(y, (0, target_length - len(y)), mode='constant')\n",
        "\n",
        "\n",
        "    mfcc = librosa.feature.mfcc(y=y, sr=sr, n_mfcc=13)\n",
        "    return np.mean(mfcc, axis=1)\n",
        "\n",
        "# Prediction function\n",
        "def predict_audio(file_path):\n",
        "    features = extract_features(file_path)\n",
        "    print(f\"Extracted features shape: {features.shape}\")\n",
        "\n",
        "    features = (features - np.mean(features)) / np.std(features)\n",
        "\n",
        "    features = features.reshape(1, 13, 1)  # Shape: (1, 13, 1)\n",
        "    print(f\"Feature shape after reshaping: {features.shape}\")\n",
        "\n",
        "    # Predict the class using the model\n",
        "    predictions = model.predict(features)\n",
        "    print(f\"Model raw predictions: {predictions}\")\n",
        "\n",
        "    # Get the index of the predicted class\n",
        "    predicted_index = np.argmax(predictions)\n",
        "\n",
        "    # Get the corresponding song name\n",
        "    predicted_song = labels[predicted_index]\n",
        "    return predicted_song\n",
        "\n",
        "# Example usage\n",
        "new_audio_file = '/content/drive/MyDrive/[SPOTDOWNLOADER.COM] ML dataset (wav files)/kamikaze.wav'\n",
        "predicted_song = predict_audio(new_audio_file)\n",
        "print(f\"The predicted song is: {predicted_song}\")\n",
        "\n",
        "\n"
      ],
      "metadata": {
        "colab": {
          "base_uri": "https://localhost:8080/"
        },
        "id": "18S31mVFzfHn",
        "outputId": "213cbe36-b7b6-4afb-eb3d-ea47c7d7b5d1"
      },
      "execution_count": null,
      "outputs": [
        {
          "output_type": "stream",
          "name": "stderr",
          "text": [
            "WARNING:absl:Compiled the loaded model, but the compiled metrics have yet to be built. `model.compile_metrics` will be empty until you train or evaluate the model.\n"
          ]
        },
        {
          "output_type": "stream",
          "name": "stdout",
          "text": [
            "Extracted features shape: (13,)\n",
            "Feature shape after reshaping: (1, 13, 1)\n",
            "\u001b[1m1/1\u001b[0m \u001b[32m━━━━━━━━━━━━━━━━━━━━\u001b[0m\u001b[37m\u001b[0m \u001b[1m1s\u001b[0m 507ms/step\n",
            "Model raw predictions: [[1.57612914e-04 1.38003128e-02 1.56438866e-04 3.63759900e-04\n",
            "  8.01848248e-03 9.57858842e-03 2.64864159e-03 1.03281473e-03\n",
            "  5.04242666e-02 1.24427881e-02 9.08749120e-04 1.18685258e-03\n",
            "  3.33544216e-04 9.50850081e-03 7.47309241e-04 3.13691766e-04\n",
            "  1.67855783e-03 8.77447601e-05 4.64280415e-03 9.27444024e-04\n",
            "  2.50299810e-04 1.14339944e-02 1.73023567e-02 9.36831087e-02\n",
            "  3.93864575e-05 1.57523819e-03 9.38979350e-03 3.58744338e-03\n",
            "  4.78272414e-04 3.46106775e-02 6.82970062e-02 6.22523390e-02\n",
            "  9.97612718e-04 5.16195409e-03 9.99964960e-03 1.03863897e-02\n",
            "  2.93300534e-03 9.40076634e-02 1.12270024e-02 2.26024422e-03\n",
            "  6.77417219e-03 1.72241285e-04 6.70333253e-03 2.38422319e-04\n",
            "  6.39953418e-04 5.48474863e-03 1.81525424e-01 3.15887318e-03\n",
            "  4.69084224e-03 2.89856247e-03 3.91277391e-03 5.74284187e-03\n",
            "  2.63454905e-03 1.51589257e-03 3.74569418e-03 2.43381335e-04\n",
            "  6.69900910e-04 2.84313643e-03 1.99408023e-04 1.02953017e-02\n",
            "  3.77123244e-03 1.99824834e-04 1.47824943e-01 1.62450634e-02\n",
            "  1.23291684e-03 8.97321559e-04 2.47222884e-03 7.40061951e-05\n",
            "  2.37439200e-02 6.97831751e-07 2.68239801e-05 3.01347172e-05\n",
            "  2.35407169e-05 1.18288233e-04 1.49165862e-05 8.35611536e-06\n",
            "  2.79964333e-05 6.42428422e-05 7.24592564e-06 2.01772327e-05\n",
            "  3.32033378e-05 3.71763635e-05 1.18102245e-04 2.32763796e-05\n",
            "  1.26046207e-05 4.57741335e-05 4.25674398e-06]]\n",
            "The predicted song is: kamikaze\n"
          ]
        }
      ]
    },
    {
      "cell_type": "code",
      "source": [
        "import sounddevice as sd\n",
        "import librosa\n",
        "import numpy as np\n",
        "import tensorflow as tf\n",
        "\n",
        "model = tf.keras.models.load_model('model.h5')\n",
        "\n",
        "labels = ['505', 'legroom', 'cigarettesoutthewindow', 'canicallyoutonight', 'betterinthedark',\n",
        "          'birdsofafeather', 'birdsdontsing', 'badhabit', 'babydoll', 'attitudeiwantmore',\n",
        "          'alittledeath', 'stressrelief', 'somethingaboutyou', 'saythatyoumissme3', 'notallowed',\n",
        "          'loversrock', 'letithappen', 'doubt', 'diehard', 'darkred', 'dangal',\n",
        "          'washingmachineheart', 'youngblood']\n",
        "def record_audio(duration=10, sample_rate=44100):\n",
        "    print(\"Recording audio..\")\n",
        "    audio = sd.rec(int(duration * sample_rate), samplerate=sample_rate, channels=1, dtype='float32')\n",
        "    sd.wait()\n",
        "    print(\"Recording complete.\")\n",
        "    return audio.flatten(), sample_rate\n",
        "\n",
        "\n",
        "def extract_features_from_audio(audio, sample_rate, target_duration=30):\n",
        "    target_length = target_duration * sample_rate\n",
        "    if len(audio) > target_length:\n",
        "        audio = audio[:target_length]\n",
        "    elif len(audio) < target_length:\n",
        "        audio = np.pad(audio, (0, target_length - len(audio)), mode='constant')\n",
        "\n",
        "    mfcc = librosa.feature.mfcc(y=audio, sr=sample_rate, n_mfcc=13)\n",
        "    return np.mean(mfcc, axis=1)\n",
        "\n",
        "def predict_song(audio, sample_rate):\n",
        "    features = extract_features_from_audio(audio, sample_rate)\n",
        "    print(f\"Extracted features shape: {features.shape}\")\n",
        "\n",
        "    features = (features - np.mean(features)) / np.std(features)\n",
        "\n",
        "    features = features.reshape(1, 13, 1)\n",
        "    print(f\"Feature shape for model: {features.shape}\")\n",
        "\n",
        "    predictions = model.predict(features)\n",
        "    predicted_index = np.argmax(predictions)\n",
        "    return labels[predicted_index]\n",
        "\n",
        "def main():\n",
        "    try:\n",
        "        # Record audio from microphone\n",
        "        duration = 10  # Duration of audio recording in seconds\n",
        "        audio, sample_rate = record_audio(duration)\n",
        "\n",
        "        # Predict the song\n",
        "        predicted_song = predict_song(audio, sample_rate)\n",
        "        print(f\"Recognized Song: {predicted_song}\")\n",
        "    except Exception as e:\n",
        "        print(f\"An error occurred: {e}\")\n",
        "\n",
        "if __name__ == \"__main__\":\n",
        "    main()\n"
      ],
      "metadata": {
        "id": "SM2OG9SwzwLA"
      },
      "execution_count": null,
      "outputs": []
    }
  ]
}